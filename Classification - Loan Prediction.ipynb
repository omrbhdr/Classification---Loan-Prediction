{
 "cells": [
  {
   "cell_type": "markdown",
   "id": "366ddd29",
   "metadata": {},
   "source": [
    "Classification  If the answer is yes or no than this is classification\n",
    "Cevabi evet hayir olan sorular Siniflandirmadir."
   ]
  },
  {
   "cell_type": "code",
   "execution_count": 119,
   "id": "bb0a1140",
   "metadata": {},
   "outputs": [],
   "source": [
    "import pandas as pd\n",
    "import warnings\n",
    "import numpy as np\n",
    "import matplotlib.pyplot as plt\n",
    "warnings.filterwarnings('ignore')"
   ]
  },
  {
   "cell_type": "code",
   "execution_count": 120,
   "id": "e9a1af44",
   "metadata": {},
   "outputs": [],
   "source": [
    "df=pd.read_csv(\"LoansTrainingSet.csv\")"
   ]
  },
  {
   "cell_type": "markdown",
   "id": "9cbaa58f",
   "metadata": {},
   "source": [
    "### EDA - Exploratory Data Analysis"
   ]
  },
  {
   "cell_type": "code",
   "execution_count": 121,
   "id": "4d46815c",
   "metadata": {},
   "outputs": [
    {
     "data": {
      "text/html": [
       "<div>\n",
       "<style scoped>\n",
       "    .dataframe tbody tr th:only-of-type {\n",
       "        vertical-align: middle;\n",
       "    }\n",
       "\n",
       "    .dataframe tbody tr th {\n",
       "        vertical-align: top;\n",
       "    }\n",
       "\n",
       "    .dataframe thead th {\n",
       "        text-align: right;\n",
       "    }\n",
       "</style>\n",
       "<table border=\"1\" class=\"dataframe\">\n",
       "  <thead>\n",
       "    <tr style=\"text-align: right;\">\n",
       "      <th></th>\n",
       "      <th>Loan ID</th>\n",
       "      <th>Customer ID</th>\n",
       "      <th>Loan Status</th>\n",
       "      <th>Current Loan Amount</th>\n",
       "      <th>Term</th>\n",
       "      <th>Credit Score</th>\n",
       "      <th>Years in current job</th>\n",
       "      <th>Home Ownership</th>\n",
       "      <th>Annual Income</th>\n",
       "      <th>Purpose</th>\n",
       "      <th>Monthly Debt</th>\n",
       "      <th>Years of Credit History</th>\n",
       "      <th>Months since last delinquent</th>\n",
       "      <th>Number of Open Accounts</th>\n",
       "      <th>Number of Credit Problems</th>\n",
       "      <th>Current Credit Balance</th>\n",
       "      <th>Maximum Open Credit</th>\n",
       "      <th>Bankruptcies</th>\n",
       "      <th>Tax Liens</th>\n",
       "    </tr>\n",
       "  </thead>\n",
       "  <tbody>\n",
       "    <tr>\n",
       "      <th>0</th>\n",
       "      <td>000025bb-5694-4cff-b17d-192b1a98ba44</td>\n",
       "      <td>5ebc8bb1-5eb9-4404-b11b-a6eebc401a19</td>\n",
       "      <td>Fully Paid</td>\n",
       "      <td>11520</td>\n",
       "      <td>Short Term</td>\n",
       "      <td>741.0</td>\n",
       "      <td>10+ years</td>\n",
       "      <td>Home Mortgage</td>\n",
       "      <td>33694.0</td>\n",
       "      <td>Debt Consolidation</td>\n",
       "      <td>$584.03</td>\n",
       "      <td>12.3</td>\n",
       "      <td>41.0</td>\n",
       "      <td>10</td>\n",
       "      <td>0</td>\n",
       "      <td>6760</td>\n",
       "      <td>16056</td>\n",
       "      <td>0.0</td>\n",
       "      <td>0.0</td>\n",
       "    </tr>\n",
       "    <tr>\n",
       "      <th>1</th>\n",
       "      <td>00002c49-3a29-4bd4-8f67-c8f8fbc1048c</td>\n",
       "      <td>927b388d-2e01-423f-a8dc-f7e42d668f46</td>\n",
       "      <td>Fully Paid</td>\n",
       "      <td>3441</td>\n",
       "      <td>Short Term</td>\n",
       "      <td>734.0</td>\n",
       "      <td>4 years</td>\n",
       "      <td>Home Mortgage</td>\n",
       "      <td>42269.0</td>\n",
       "      <td>other</td>\n",
       "      <td>$1,106.04</td>\n",
       "      <td>26.3</td>\n",
       "      <td>NaN</td>\n",
       "      <td>17</td>\n",
       "      <td>0</td>\n",
       "      <td>6262</td>\n",
       "      <td>19149</td>\n",
       "      <td>0.0</td>\n",
       "      <td>0.0</td>\n",
       "    </tr>\n",
       "    <tr>\n",
       "      <th>2</th>\n",
       "      <td>00002d89-27f3-409b-aa76-90834f359a65</td>\n",
       "      <td>defce609-c631-447d-aad6-1270615e89c4</td>\n",
       "      <td>Fully Paid</td>\n",
       "      <td>21029</td>\n",
       "      <td>Short Term</td>\n",
       "      <td>747.0</td>\n",
       "      <td>10+ years</td>\n",
       "      <td>Home Mortgage</td>\n",
       "      <td>90126.0</td>\n",
       "      <td>Debt Consolidation</td>\n",
       "      <td>$1,321.85</td>\n",
       "      <td>28.8</td>\n",
       "      <td>NaN</td>\n",
       "      <td>5</td>\n",
       "      <td>0</td>\n",
       "      <td>20967</td>\n",
       "      <td>28335</td>\n",
       "      <td>0.0</td>\n",
       "      <td>0.0</td>\n",
       "    </tr>\n",
       "    <tr>\n",
       "      <th>3</th>\n",
       "      <td>00005222-b4d8-45a4-ad8c-186057e24233</td>\n",
       "      <td>070bcecb-aae7-4485-a26a-e0403e7bb6c5</td>\n",
       "      <td>Fully Paid</td>\n",
       "      <td>18743</td>\n",
       "      <td>Short Term</td>\n",
       "      <td>747.0</td>\n",
       "      <td>10+ years</td>\n",
       "      <td>Own Home</td>\n",
       "      <td>38072.0</td>\n",
       "      <td>Debt Consolidation</td>\n",
       "      <td>$751.92</td>\n",
       "      <td>26.2</td>\n",
       "      <td>NaN</td>\n",
       "      <td>9</td>\n",
       "      <td>0</td>\n",
       "      <td>22529</td>\n",
       "      <td>43915</td>\n",
       "      <td>0.0</td>\n",
       "      <td>0.0</td>\n",
       "    </tr>\n",
       "    <tr>\n",
       "      <th>4</th>\n",
       "      <td>0000757f-a121-41ed-b17b-162e76647c1f</td>\n",
       "      <td>dde79588-12f0-4811-bab0-e2b07f633fcd</td>\n",
       "      <td>Fully Paid</td>\n",
       "      <td>11731</td>\n",
       "      <td>Short Term</td>\n",
       "      <td>746.0</td>\n",
       "      <td>4 years</td>\n",
       "      <td>Rent</td>\n",
       "      <td>50025.0</td>\n",
       "      <td>Debt Consolidation</td>\n",
       "      <td>$355.18</td>\n",
       "      <td>11.5</td>\n",
       "      <td>NaN</td>\n",
       "      <td>12</td>\n",
       "      <td>0</td>\n",
       "      <td>17391</td>\n",
       "      <td>37081</td>\n",
       "      <td>0.0</td>\n",
       "      <td>0.0</td>\n",
       "    </tr>\n",
       "  </tbody>\n",
       "</table>\n",
       "</div>"
      ],
      "text/plain": [
       "                                Loan ID                           Customer ID  \\\n",
       "0  000025bb-5694-4cff-b17d-192b1a98ba44  5ebc8bb1-5eb9-4404-b11b-a6eebc401a19   \n",
       "1  00002c49-3a29-4bd4-8f67-c8f8fbc1048c  927b388d-2e01-423f-a8dc-f7e42d668f46   \n",
       "2  00002d89-27f3-409b-aa76-90834f359a65  defce609-c631-447d-aad6-1270615e89c4   \n",
       "3  00005222-b4d8-45a4-ad8c-186057e24233  070bcecb-aae7-4485-a26a-e0403e7bb6c5   \n",
       "4  0000757f-a121-41ed-b17b-162e76647c1f  dde79588-12f0-4811-bab0-e2b07f633fcd   \n",
       "\n",
       "  Loan Status  Current Loan Amount        Term  Credit Score  \\\n",
       "0  Fully Paid                11520  Short Term         741.0   \n",
       "1  Fully Paid                 3441  Short Term         734.0   \n",
       "2  Fully Paid                21029  Short Term         747.0   \n",
       "3  Fully Paid                18743  Short Term         747.0   \n",
       "4  Fully Paid                11731  Short Term         746.0   \n",
       "\n",
       "  Years in current job Home Ownership  Annual Income             Purpose  \\\n",
       "0            10+ years  Home Mortgage        33694.0  Debt Consolidation   \n",
       "1              4 years  Home Mortgage        42269.0               other   \n",
       "2            10+ years  Home Mortgage        90126.0  Debt Consolidation   \n",
       "3            10+ years       Own Home        38072.0  Debt Consolidation   \n",
       "4              4 years           Rent        50025.0  Debt Consolidation   \n",
       "\n",
       "  Monthly Debt  Years of Credit History  Months since last delinquent  \\\n",
       "0      $584.03                     12.3                          41.0   \n",
       "1   $1,106.04                      26.3                           NaN   \n",
       "2   $1,321.85                      28.8                           NaN   \n",
       "3      $751.92                     26.2                           NaN   \n",
       "4      $355.18                     11.5                           NaN   \n",
       "\n",
       "   Number of Open Accounts  Number of Credit Problems  Current Credit Balance  \\\n",
       "0                       10                          0                    6760   \n",
       "1                       17                          0                    6262   \n",
       "2                        5                          0                   20967   \n",
       "3                        9                          0                   22529   \n",
       "4                       12                          0                   17391   \n",
       "\n",
       "  Maximum Open Credit  Bankruptcies  Tax Liens  \n",
       "0               16056           0.0        0.0  \n",
       "1               19149           0.0        0.0  \n",
       "2               28335           0.0        0.0  \n",
       "3               43915           0.0        0.0  \n",
       "4               37081           0.0        0.0  "
      ]
     },
     "execution_count": 121,
     "metadata": {},
     "output_type": "execute_result"
    }
   ],
   "source": [
    "df.head()"
   ]
  },
  {
   "cell_type": "code",
   "execution_count": 122,
   "id": "ec5fe95b",
   "metadata": {},
   "outputs": [
    {
     "data": {
      "text/html": [
       "<div>\n",
       "<style scoped>\n",
       "    .dataframe tbody tr th:only-of-type {\n",
       "        vertical-align: middle;\n",
       "    }\n",
       "\n",
       "    .dataframe tbody tr th {\n",
       "        vertical-align: top;\n",
       "    }\n",
       "\n",
       "    .dataframe thead th {\n",
       "        text-align: right;\n",
       "    }\n",
       "</style>\n",
       "<table border=\"1\" class=\"dataframe\">\n",
       "  <thead>\n",
       "    <tr style=\"text-align: right;\">\n",
       "      <th></th>\n",
       "      <th>Loan ID</th>\n",
       "      <th>Customer ID</th>\n",
       "      <th>Loan Status</th>\n",
       "      <th>Current Loan Amount</th>\n",
       "      <th>Term</th>\n",
       "      <th>Credit Score</th>\n",
       "      <th>Years in current job</th>\n",
       "      <th>Home Ownership</th>\n",
       "      <th>Annual Income</th>\n",
       "      <th>Purpose</th>\n",
       "      <th>Monthly Debt</th>\n",
       "      <th>Years of Credit History</th>\n",
       "      <th>Months since last delinquent</th>\n",
       "      <th>Number of Open Accounts</th>\n",
       "      <th>Number of Credit Problems</th>\n",
       "      <th>Current Credit Balance</th>\n",
       "      <th>Maximum Open Credit</th>\n",
       "      <th>Bankruptcies</th>\n",
       "      <th>Tax Liens</th>\n",
       "    </tr>\n",
       "  </thead>\n",
       "  <tbody>\n",
       "    <tr>\n",
       "      <th>67877</th>\n",
       "      <td>43780fb0-3b9d-4a78-86e9-1ca2de0d0122</td>\n",
       "      <td>9a5fec7c-7e35-40f9-b0bb-89bc806141ea</td>\n",
       "      <td>Fully Paid</td>\n",
       "      <td>8593</td>\n",
       "      <td>Short Term</td>\n",
       "      <td>743.0</td>\n",
       "      <td>10+ years</td>\n",
       "      <td>Rent</td>\n",
       "      <td>39060.0</td>\n",
       "      <td>Debt Consolidation</td>\n",
       "      <td>$429.66</td>\n",
       "      <td>29.3</td>\n",
       "      <td>NaN</td>\n",
       "      <td>5</td>\n",
       "      <td>0</td>\n",
       "      <td>19475</td>\n",
       "      <td>32298</td>\n",
       "      <td>0.0</td>\n",
       "      <td>0.0</td>\n",
       "    </tr>\n",
       "    <tr>\n",
       "      <th>99798</th>\n",
       "      <td>6328b608-561d-456f-9d3c-fc34c6c2ed26</td>\n",
       "      <td>0ebd5104-b3b4-44f4-bed8-f8b1899f22e7</td>\n",
       "      <td>Charged Off</td>\n",
       "      <td>8457</td>\n",
       "      <td>Short Term</td>\n",
       "      <td>7280.0</td>\n",
       "      <td>NaN</td>\n",
       "      <td>Home Mortgage</td>\n",
       "      <td>23231.0</td>\n",
       "      <td>Debt Consolidation</td>\n",
       "      <td>$208.88</td>\n",
       "      <td>17.8</td>\n",
       "      <td>NaN</td>\n",
       "      <td>4</td>\n",
       "      <td>1</td>\n",
       "      <td>8392</td>\n",
       "      <td>14985</td>\n",
       "      <td>1.0</td>\n",
       "      <td>0.0</td>\n",
       "    </tr>\n",
       "    <tr>\n",
       "      <th>38446</th>\n",
       "      <td>2635c01b-75c5-44b1-a024-dced5d7dd694</td>\n",
       "      <td>14eb7307-7e29-405b-a6a3-39cdbc563870</td>\n",
       "      <td>Fully Paid</td>\n",
       "      <td>23875</td>\n",
       "      <td>Long Term</td>\n",
       "      <td>708.0</td>\n",
       "      <td>10+ years</td>\n",
       "      <td>Home Mortgage</td>\n",
       "      <td>85553.0</td>\n",
       "      <td>Medical Bills</td>\n",
       "      <td>$1,147.83</td>\n",
       "      <td>15.1</td>\n",
       "      <td>NaN</td>\n",
       "      <td>11</td>\n",
       "      <td>0</td>\n",
       "      <td>7711</td>\n",
       "      <td>24478</td>\n",
       "      <td>0.0</td>\n",
       "      <td>0.0</td>\n",
       "    </tr>\n",
       "    <tr>\n",
       "      <th>69668</th>\n",
       "      <td>4541d18f-5f5f-47da-a817-5e6dc73602c4</td>\n",
       "      <td>ea8774ce-36a1-4fc5-b51f-396b3c7e8f00</td>\n",
       "      <td>Charged Off</td>\n",
       "      <td>20346</td>\n",
       "      <td>Short Term</td>\n",
       "      <td>734.0</td>\n",
       "      <td>7 years</td>\n",
       "      <td>Own Home</td>\n",
       "      <td>71211.0</td>\n",
       "      <td>Debt Consolidation</td>\n",
       "      <td>$979.15</td>\n",
       "      <td>30.9</td>\n",
       "      <td>26.0</td>\n",
       "      <td>10</td>\n",
       "      <td>0</td>\n",
       "      <td>16037</td>\n",
       "      <td>22181</td>\n",
       "      <td>0.0</td>\n",
       "      <td>0.0</td>\n",
       "    </tr>\n",
       "    <tr>\n",
       "      <th>74190</th>\n",
       "      <td>49af9490-69b3-46dd-a67e-6bf35c95f7d1</td>\n",
       "      <td>88b45721-5078-4189-ad29-bcc089c3f24d</td>\n",
       "      <td>Charged Off</td>\n",
       "      <td>24678</td>\n",
       "      <td>Long Term</td>\n",
       "      <td>7230.0</td>\n",
       "      <td>&lt; 1 year</td>\n",
       "      <td>Rent</td>\n",
       "      <td>55446.0</td>\n",
       "      <td>Debt Consolidation</td>\n",
       "      <td>$928.71</td>\n",
       "      <td>21.0</td>\n",
       "      <td>NaN</td>\n",
       "      <td>8</td>\n",
       "      <td>0</td>\n",
       "      <td>20405</td>\n",
       "      <td>27612</td>\n",
       "      <td>0.0</td>\n",
       "      <td>0.0</td>\n",
       "    </tr>\n",
       "    <tr>\n",
       "      <th>133499</th>\n",
       "      <td>84d05db5-7a79-4660-87d4-3eaed8ffd595</td>\n",
       "      <td>fc027d60-19d7-4b68-a9fa-c3930f807e1c</td>\n",
       "      <td>Fully Paid</td>\n",
       "      <td>11968</td>\n",
       "      <td>Short Term</td>\n",
       "      <td>NaN</td>\n",
       "      <td>2 years</td>\n",
       "      <td>Home Mortgage</td>\n",
       "      <td>NaN</td>\n",
       "      <td>Debt Consolidation</td>\n",
       "      <td>$1,075.86</td>\n",
       "      <td>22.1</td>\n",
       "      <td>NaN</td>\n",
       "      <td>21</td>\n",
       "      <td>0</td>\n",
       "      <td>17059</td>\n",
       "      <td>37165</td>\n",
       "      <td>0.0</td>\n",
       "      <td>0.0</td>\n",
       "    </tr>\n",
       "    <tr>\n",
       "      <th>248877</th>\n",
       "      <td>f7e17b8c-6082-48d2-9cd9-748c0654985b</td>\n",
       "      <td>8519189a-3ac8-4b67-a849-e54b5a5c7126</td>\n",
       "      <td>Fully Paid</td>\n",
       "      <td>99999999</td>\n",
       "      <td>Short Term</td>\n",
       "      <td>741.0</td>\n",
       "      <td>2 years</td>\n",
       "      <td>Rent</td>\n",
       "      <td>39180.0</td>\n",
       "      <td>Debt Consolidation</td>\n",
       "      <td>$626.88</td>\n",
       "      <td>15.8</td>\n",
       "      <td>65.0</td>\n",
       "      <td>13</td>\n",
       "      <td>1</td>\n",
       "      <td>3307</td>\n",
       "      <td>6961</td>\n",
       "      <td>1.0</td>\n",
       "      <td>0.0</td>\n",
       "    </tr>\n",
       "    <tr>\n",
       "      <th>225142</th>\n",
       "      <td>dff324d2-b719-4d86-8a7a-1123d709fc26</td>\n",
       "      <td>5270ccd4-7b14-41b3-b661-43f8b82b94a9</td>\n",
       "      <td>Fully Paid</td>\n",
       "      <td>19626</td>\n",
       "      <td>Short Term</td>\n",
       "      <td>743.0</td>\n",
       "      <td>5 years</td>\n",
       "      <td>Home Mortgage</td>\n",
       "      <td>58878.0</td>\n",
       "      <td>Debt Consolidation</td>\n",
       "      <td>$1,074.52</td>\n",
       "      <td>15.4</td>\n",
       "      <td>NaN</td>\n",
       "      <td>7</td>\n",
       "      <td>0</td>\n",
       "      <td>19440</td>\n",
       "      <td>27850</td>\n",
       "      <td>0.0</td>\n",
       "      <td>0.0</td>\n",
       "    </tr>\n",
       "    <tr>\n",
       "      <th>95002</th>\n",
       "      <td>5e74e213-c6d9-4795-8cfb-d29f4d0f7f62</td>\n",
       "      <td>f1294298-5f80-4a97-b217-d80f1a2f3ebd</td>\n",
       "      <td>Fully Paid</td>\n",
       "      <td>7939</td>\n",
       "      <td>Short Term</td>\n",
       "      <td>NaN</td>\n",
       "      <td>1 year</td>\n",
       "      <td>Home Mortgage</td>\n",
       "      <td>NaN</td>\n",
       "      <td>Debt Consolidation</td>\n",
       "      <td>$775.79</td>\n",
       "      <td>13.5</td>\n",
       "      <td>NaN</td>\n",
       "      <td>8</td>\n",
       "      <td>0</td>\n",
       "      <td>27784</td>\n",
       "      <td>47413</td>\n",
       "      <td>0.0</td>\n",
       "      <td>0.0</td>\n",
       "    </tr>\n",
       "    <tr>\n",
       "      <th>28780</th>\n",
       "      <td>1cd4e23f-786e-4448-957c-5401af7ad383</td>\n",
       "      <td>67955928-e7f3-4c1a-9c28-c298ae00b136</td>\n",
       "      <td>Charged Off</td>\n",
       "      <td>17026</td>\n",
       "      <td>Short Term</td>\n",
       "      <td>733.0</td>\n",
       "      <td>&lt; 1 year</td>\n",
       "      <td>Own Home</td>\n",
       "      <td>64096.0</td>\n",
       "      <td>Debt Consolidation</td>\n",
       "      <td>$1,848.10</td>\n",
       "      <td>12.0</td>\n",
       "      <td>NaN</td>\n",
       "      <td>16</td>\n",
       "      <td>0</td>\n",
       "      <td>27219</td>\n",
       "      <td>46608</td>\n",
       "      <td>0.0</td>\n",
       "      <td>0.0</td>\n",
       "    </tr>\n",
       "  </tbody>\n",
       "</table>\n",
       "</div>"
      ],
      "text/plain": [
       "                                     Loan ID  \\\n",
       "67877   43780fb0-3b9d-4a78-86e9-1ca2de0d0122   \n",
       "99798   6328b608-561d-456f-9d3c-fc34c6c2ed26   \n",
       "38446   2635c01b-75c5-44b1-a024-dced5d7dd694   \n",
       "69668   4541d18f-5f5f-47da-a817-5e6dc73602c4   \n",
       "74190   49af9490-69b3-46dd-a67e-6bf35c95f7d1   \n",
       "133499  84d05db5-7a79-4660-87d4-3eaed8ffd595   \n",
       "248877  f7e17b8c-6082-48d2-9cd9-748c0654985b   \n",
       "225142  dff324d2-b719-4d86-8a7a-1123d709fc26   \n",
       "95002   5e74e213-c6d9-4795-8cfb-d29f4d0f7f62   \n",
       "28780   1cd4e23f-786e-4448-957c-5401af7ad383   \n",
       "\n",
       "                                 Customer ID  Loan Status  \\\n",
       "67877   9a5fec7c-7e35-40f9-b0bb-89bc806141ea   Fully Paid   \n",
       "99798   0ebd5104-b3b4-44f4-bed8-f8b1899f22e7  Charged Off   \n",
       "38446   14eb7307-7e29-405b-a6a3-39cdbc563870   Fully Paid   \n",
       "69668   ea8774ce-36a1-4fc5-b51f-396b3c7e8f00  Charged Off   \n",
       "74190   88b45721-5078-4189-ad29-bcc089c3f24d  Charged Off   \n",
       "133499  fc027d60-19d7-4b68-a9fa-c3930f807e1c   Fully Paid   \n",
       "248877  8519189a-3ac8-4b67-a849-e54b5a5c7126   Fully Paid   \n",
       "225142  5270ccd4-7b14-41b3-b661-43f8b82b94a9   Fully Paid   \n",
       "95002   f1294298-5f80-4a97-b217-d80f1a2f3ebd   Fully Paid   \n",
       "28780   67955928-e7f3-4c1a-9c28-c298ae00b136  Charged Off   \n",
       "\n",
       "        Current Loan Amount        Term  Credit Score Years in current job  \\\n",
       "67877                  8593  Short Term         743.0            10+ years   \n",
       "99798                  8457  Short Term        7280.0                  NaN   \n",
       "38446                 23875   Long Term         708.0            10+ years   \n",
       "69668                 20346  Short Term         734.0              7 years   \n",
       "74190                 24678   Long Term        7230.0             < 1 year   \n",
       "133499                11968  Short Term           NaN              2 years   \n",
       "248877             99999999  Short Term         741.0              2 years   \n",
       "225142                19626  Short Term         743.0              5 years   \n",
       "95002                  7939  Short Term           NaN               1 year   \n",
       "28780                 17026  Short Term         733.0             < 1 year   \n",
       "\n",
       "       Home Ownership  Annual Income             Purpose Monthly Debt  \\\n",
       "67877            Rent        39060.0  Debt Consolidation      $429.66   \n",
       "99798   Home Mortgage        23231.0  Debt Consolidation      $208.88   \n",
       "38446   Home Mortgage        85553.0       Medical Bills   $1,147.83    \n",
       "69668        Own Home        71211.0  Debt Consolidation      $979.15   \n",
       "74190            Rent        55446.0  Debt Consolidation      $928.71   \n",
       "133499  Home Mortgage            NaN  Debt Consolidation   $1,075.86    \n",
       "248877           Rent        39180.0  Debt Consolidation      $626.88   \n",
       "225142  Home Mortgage        58878.0  Debt Consolidation   $1,074.52    \n",
       "95002   Home Mortgage            NaN  Debt Consolidation      $775.79   \n",
       "28780        Own Home        64096.0  Debt Consolidation   $1,848.10    \n",
       "\n",
       "        Years of Credit History  Months since last delinquent  \\\n",
       "67877                      29.3                           NaN   \n",
       "99798                      17.8                           NaN   \n",
       "38446                      15.1                           NaN   \n",
       "69668                      30.9                          26.0   \n",
       "74190                      21.0                           NaN   \n",
       "133499                     22.1                           NaN   \n",
       "248877                     15.8                          65.0   \n",
       "225142                     15.4                           NaN   \n",
       "95002                      13.5                           NaN   \n",
       "28780                      12.0                           NaN   \n",
       "\n",
       "        Number of Open Accounts  Number of Credit Problems  \\\n",
       "67877                         5                          0   \n",
       "99798                         4                          1   \n",
       "38446                        11                          0   \n",
       "69668                        10                          0   \n",
       "74190                         8                          0   \n",
       "133499                       21                          0   \n",
       "248877                       13                          1   \n",
       "225142                        7                          0   \n",
       "95002                         8                          0   \n",
       "28780                        16                          0   \n",
       "\n",
       "        Current Credit Balance Maximum Open Credit  Bankruptcies  Tax Liens  \n",
       "67877                    19475               32298           0.0        0.0  \n",
       "99798                     8392               14985           1.0        0.0  \n",
       "38446                     7711               24478           0.0        0.0  \n",
       "69668                    16037               22181           0.0        0.0  \n",
       "74190                    20405               27612           0.0        0.0  \n",
       "133499                   17059               37165           0.0        0.0  \n",
       "248877                    3307                6961           1.0        0.0  \n",
       "225142                   19440               27850           0.0        0.0  \n",
       "95002                    27784               47413           0.0        0.0  \n",
       "28780                    27219               46608           0.0        0.0  "
      ]
     },
     "execution_count": 122,
     "metadata": {},
     "output_type": "execute_result"
    }
   ],
   "source": [
    "df.sample(10)"
   ]
  },
  {
   "cell_type": "code",
   "execution_count": 123,
   "id": "37dac8f3",
   "metadata": {},
   "outputs": [
    {
     "name": "stdout",
     "output_type": "stream",
     "text": [
      "<class 'pandas.core.frame.DataFrame'>\n",
      "RangeIndex: 256984 entries, 0 to 256983\n",
      "Data columns (total 19 columns):\n",
      " #   Column                        Non-Null Count   Dtype  \n",
      "---  ------                        --------------   -----  \n",
      " 0   Loan ID                       256984 non-null  object \n",
      " 1   Customer ID                   256984 non-null  object \n",
      " 2   Loan Status                   256984 non-null  object \n",
      " 3   Current Loan Amount           256984 non-null  int64  \n",
      " 4   Term                          256984 non-null  object \n",
      " 5   Credit Score                  195308 non-null  float64\n",
      " 6   Years in current job          245508 non-null  object \n",
      " 7   Home Ownership                256984 non-null  object \n",
      " 8   Annual Income                 195308 non-null  float64\n",
      " 9   Purpose                       256984 non-null  object \n",
      " 10  Monthly Debt                  256984 non-null  object \n",
      " 11  Years of Credit History       256984 non-null  float64\n",
      " 12  Months since last delinquent  116601 non-null  float64\n",
      " 13  Number of Open Accounts       256984 non-null  int64  \n",
      " 14  Number of Credit Problems     256984 non-null  int64  \n",
      " 15  Current Credit Balance        256984 non-null  int64  \n",
      " 16  Maximum Open Credit           256984 non-null  object \n",
      " 17  Bankruptcies                  256455 non-null  float64\n",
      " 18  Tax Liens                     256961 non-null  float64\n",
      "dtypes: float64(6), int64(4), object(9)\n",
      "memory usage: 37.3+ MB\n"
     ]
    }
   ],
   "source": [
    "df.info()"
   ]
  },
  {
   "cell_type": "code",
   "execution_count": 124,
   "id": "26ababa1",
   "metadata": {},
   "outputs": [
    {
     "data": {
      "text/plain": [
       "array(['10+ years', '4 years', '6 years', '5 years', nan, '3 years',\n",
       "       '2 years', '< 1 year', '1 year', '7 years', '9 years', '8 years'],\n",
       "      dtype=object)"
      ]
     },
     "execution_count": 124,
     "metadata": {},
     "output_type": "execute_result"
    }
   ],
   "source": [
    "df['Years in current job'].unique()"
   ]
  },
  {
   "cell_type": "code",
   "execution_count": 125,
   "id": "1f725a84",
   "metadata": {},
   "outputs": [],
   "source": [
    "df.drop(['Months since last delinquent'],axis=1,inplace=True)\n"
   ]
  },
  {
   "cell_type": "code",
   "execution_count": 126,
   "id": "35b3653c",
   "metadata": {},
   "outputs": [
    {
     "data": {
      "text/plain": [
       "(256984, 18)"
      ]
     },
     "execution_count": 126,
     "metadata": {},
     "output_type": "execute_result"
    }
   ],
   "source": [
    "df.shape"
   ]
  },
  {
   "cell_type": "code",
   "execution_count": 127,
   "id": "aea11bf1",
   "metadata": {},
   "outputs": [],
   "source": [
    "df.dropna(inplace=True)"
   ]
  },
  {
   "cell_type": "code",
   "execution_count": 128,
   "id": "d97bf686",
   "metadata": {},
   "outputs": [
    {
     "data": {
      "text/html": [
       "<div>\n",
       "<style scoped>\n",
       "    .dataframe tbody tr th:only-of-type {\n",
       "        vertical-align: middle;\n",
       "    }\n",
       "\n",
       "    .dataframe tbody tr th {\n",
       "        vertical-align: top;\n",
       "    }\n",
       "\n",
       "    .dataframe thead th {\n",
       "        text-align: right;\n",
       "    }\n",
       "</style>\n",
       "<table border=\"1\" class=\"dataframe\">\n",
       "  <thead>\n",
       "    <tr style=\"text-align: right;\">\n",
       "      <th></th>\n",
       "      <th>Loan ID</th>\n",
       "      <th>Customer ID</th>\n",
       "      <th>Loan Status</th>\n",
       "      <th>Term</th>\n",
       "      <th>Years in current job</th>\n",
       "      <th>Home Ownership</th>\n",
       "      <th>Purpose</th>\n",
       "      <th>Monthly Debt</th>\n",
       "      <th>Maximum Open Credit</th>\n",
       "    </tr>\n",
       "  </thead>\n",
       "  <tbody>\n",
       "    <tr>\n",
       "      <th>0</th>\n",
       "      <td>000025bb-5694-4cff-b17d-192b1a98ba44</td>\n",
       "      <td>5ebc8bb1-5eb9-4404-b11b-a6eebc401a19</td>\n",
       "      <td>Fully Paid</td>\n",
       "      <td>Short Term</td>\n",
       "      <td>10+ years</td>\n",
       "      <td>Home Mortgage</td>\n",
       "      <td>Debt Consolidation</td>\n",
       "      <td>$584.03</td>\n",
       "      <td>16056</td>\n",
       "    </tr>\n",
       "    <tr>\n",
       "      <th>1</th>\n",
       "      <td>00002c49-3a29-4bd4-8f67-c8f8fbc1048c</td>\n",
       "      <td>927b388d-2e01-423f-a8dc-f7e42d668f46</td>\n",
       "      <td>Fully Paid</td>\n",
       "      <td>Short Term</td>\n",
       "      <td>4 years</td>\n",
       "      <td>Home Mortgage</td>\n",
       "      <td>other</td>\n",
       "      <td>$1,106.04</td>\n",
       "      <td>19149</td>\n",
       "    </tr>\n",
       "    <tr>\n",
       "      <th>2</th>\n",
       "      <td>00002d89-27f3-409b-aa76-90834f359a65</td>\n",
       "      <td>defce609-c631-447d-aad6-1270615e89c4</td>\n",
       "      <td>Fully Paid</td>\n",
       "      <td>Short Term</td>\n",
       "      <td>10+ years</td>\n",
       "      <td>Home Mortgage</td>\n",
       "      <td>Debt Consolidation</td>\n",
       "      <td>$1,321.85</td>\n",
       "      <td>28335</td>\n",
       "    </tr>\n",
       "    <tr>\n",
       "      <th>3</th>\n",
       "      <td>00005222-b4d8-45a4-ad8c-186057e24233</td>\n",
       "      <td>070bcecb-aae7-4485-a26a-e0403e7bb6c5</td>\n",
       "      <td>Fully Paid</td>\n",
       "      <td>Short Term</td>\n",
       "      <td>10+ years</td>\n",
       "      <td>Own Home</td>\n",
       "      <td>Debt Consolidation</td>\n",
       "      <td>$751.92</td>\n",
       "      <td>43915</td>\n",
       "    </tr>\n",
       "    <tr>\n",
       "      <th>4</th>\n",
       "      <td>0000757f-a121-41ed-b17b-162e76647c1f</td>\n",
       "      <td>dde79588-12f0-4811-bab0-e2b07f633fcd</td>\n",
       "      <td>Fully Paid</td>\n",
       "      <td>Short Term</td>\n",
       "      <td>4 years</td>\n",
       "      <td>Rent</td>\n",
       "      <td>Debt Consolidation</td>\n",
       "      <td>$355.18</td>\n",
       "      <td>37081</td>\n",
       "    </tr>\n",
       "    <tr>\n",
       "      <th>...</th>\n",
       "      <td>...</td>\n",
       "      <td>...</td>\n",
       "      <td>...</td>\n",
       "      <td>...</td>\n",
       "      <td>...</td>\n",
       "      <td>...</td>\n",
       "      <td>...</td>\n",
       "      <td>...</td>\n",
       "      <td>...</td>\n",
       "    </tr>\n",
       "    <tr>\n",
       "      <th>256978</th>\n",
       "      <td>fffe84cf-67a1-468d-ab7b-cf06a9c4ee14</td>\n",
       "      <td>460c6cf5-4d12-4e3c-a3d0-46dd67c78cce</td>\n",
       "      <td>Charged Off</td>\n",
       "      <td>Short Term</td>\n",
       "      <td>10+ years</td>\n",
       "      <td>Home Mortgage</td>\n",
       "      <td>Debt Consolidation</td>\n",
       "      <td>$982.82</td>\n",
       "      <td>4783</td>\n",
       "    </tr>\n",
       "    <tr>\n",
       "      <th>256980</th>\n",
       "      <td>ffffca93-aa8c-4123-b8ff-7852f6df889a</td>\n",
       "      <td>616fef0c-8f09-4327-9b5c-48fcfaa52934</td>\n",
       "      <td>Fully Paid</td>\n",
       "      <td>Short Term</td>\n",
       "      <td>10+ years</td>\n",
       "      <td>Own Home</td>\n",
       "      <td>Debt Consolidation</td>\n",
       "      <td>$1,376.47</td>\n",
       "      <td>9758</td>\n",
       "    </tr>\n",
       "    <tr>\n",
       "      <th>256981</th>\n",
       "      <td>ffffcb2e-e48e-4d2c-a0d6-ed6bce5bfdbe</td>\n",
       "      <td>971a6682-183b-4a52-8bce-1d3429ade295</td>\n",
       "      <td>Charged Off</td>\n",
       "      <td>Short Term</td>\n",
       "      <td>9 years</td>\n",
       "      <td>Home Mortgage</td>\n",
       "      <td>Debt Consolidation</td>\n",
       "      <td>$297.96</td>\n",
       "      <td>20090</td>\n",
       "    </tr>\n",
       "    <tr>\n",
       "      <th>256982</th>\n",
       "      <td>ffffcb2e-e48e-4d2c-a0d6-ed6bce5bfdbe</td>\n",
       "      <td>971a6682-183b-4a52-8bce-1d3429ade295</td>\n",
       "      <td>Charged Off</td>\n",
       "      <td>Short Term</td>\n",
       "      <td>9 years</td>\n",
       "      <td>Home Mortgage</td>\n",
       "      <td>Debt Consolidation</td>\n",
       "      <td>$297.96</td>\n",
       "      <td>20090</td>\n",
       "    </tr>\n",
       "    <tr>\n",
       "      <th>256983</th>\n",
       "      <td>ffffe32e-ed17-459f-9cfd-7b9ee7972933</td>\n",
       "      <td>97281336-1e45-41d2-acb2-263ce56a590e</td>\n",
       "      <td>Fully Paid</td>\n",
       "      <td>Long Term</td>\n",
       "      <td>10+ years</td>\n",
       "      <td>Home Mortgage</td>\n",
       "      <td>Debt Consolidation</td>\n",
       "      <td>$2,525.82</td>\n",
       "      <td>62371</td>\n",
       "    </tr>\n",
       "  </tbody>\n",
       "</table>\n",
       "<p>186099 rows × 9 columns</p>\n",
       "</div>"
      ],
      "text/plain": [
       "                                     Loan ID  \\\n",
       "0       000025bb-5694-4cff-b17d-192b1a98ba44   \n",
       "1       00002c49-3a29-4bd4-8f67-c8f8fbc1048c   \n",
       "2       00002d89-27f3-409b-aa76-90834f359a65   \n",
       "3       00005222-b4d8-45a4-ad8c-186057e24233   \n",
       "4       0000757f-a121-41ed-b17b-162e76647c1f   \n",
       "...                                      ...   \n",
       "256978  fffe84cf-67a1-468d-ab7b-cf06a9c4ee14   \n",
       "256980  ffffca93-aa8c-4123-b8ff-7852f6df889a   \n",
       "256981  ffffcb2e-e48e-4d2c-a0d6-ed6bce5bfdbe   \n",
       "256982  ffffcb2e-e48e-4d2c-a0d6-ed6bce5bfdbe   \n",
       "256983  ffffe32e-ed17-459f-9cfd-7b9ee7972933   \n",
       "\n",
       "                                 Customer ID  Loan Status        Term  \\\n",
       "0       5ebc8bb1-5eb9-4404-b11b-a6eebc401a19   Fully Paid  Short Term   \n",
       "1       927b388d-2e01-423f-a8dc-f7e42d668f46   Fully Paid  Short Term   \n",
       "2       defce609-c631-447d-aad6-1270615e89c4   Fully Paid  Short Term   \n",
       "3       070bcecb-aae7-4485-a26a-e0403e7bb6c5   Fully Paid  Short Term   \n",
       "4       dde79588-12f0-4811-bab0-e2b07f633fcd   Fully Paid  Short Term   \n",
       "...                                      ...          ...         ...   \n",
       "256978  460c6cf5-4d12-4e3c-a3d0-46dd67c78cce  Charged Off  Short Term   \n",
       "256980  616fef0c-8f09-4327-9b5c-48fcfaa52934   Fully Paid  Short Term   \n",
       "256981  971a6682-183b-4a52-8bce-1d3429ade295  Charged Off  Short Term   \n",
       "256982  971a6682-183b-4a52-8bce-1d3429ade295  Charged Off  Short Term   \n",
       "256983  97281336-1e45-41d2-acb2-263ce56a590e   Fully Paid   Long Term   \n",
       "\n",
       "       Years in current job Home Ownership             Purpose Monthly Debt  \\\n",
       "0                 10+ years  Home Mortgage  Debt Consolidation      $584.03   \n",
       "1                   4 years  Home Mortgage               other   $1,106.04    \n",
       "2                 10+ years  Home Mortgage  Debt Consolidation   $1,321.85    \n",
       "3                 10+ years       Own Home  Debt Consolidation      $751.92   \n",
       "4                   4 years           Rent  Debt Consolidation      $355.18   \n",
       "...                     ...            ...                 ...          ...   \n",
       "256978            10+ years  Home Mortgage  Debt Consolidation      $982.82   \n",
       "256980            10+ years       Own Home  Debt Consolidation   $1,376.47    \n",
       "256981              9 years  Home Mortgage  Debt Consolidation      $297.96   \n",
       "256982              9 years  Home Mortgage  Debt Consolidation      $297.96   \n",
       "256983            10+ years  Home Mortgage  Debt Consolidation   $2,525.82    \n",
       "\n",
       "       Maximum Open Credit  \n",
       "0                    16056  \n",
       "1                    19149  \n",
       "2                    28335  \n",
       "3                    43915  \n",
       "4                    37081  \n",
       "...                    ...  \n",
       "256978                4783  \n",
       "256980                9758  \n",
       "256981               20090  \n",
       "256982               20090  \n",
       "256983               62371  \n",
       "\n",
       "[186099 rows x 9 columns]"
      ]
     },
     "execution_count": 128,
     "metadata": {},
     "output_type": "execute_result"
    }
   ],
   "source": [
    "df.select_dtypes(\"object\")"
   ]
  },
  {
   "cell_type": "code",
   "execution_count": 129,
   "id": "bd238c9b",
   "metadata": {},
   "outputs": [],
   "source": [
    "df.drop([\"Loan ID\",\"Customer ID\"],axis=1,inplace=True)"
   ]
  },
  {
   "cell_type": "code",
   "execution_count": 130,
   "id": "4361668b",
   "metadata": {},
   "outputs": [
    {
     "name": "stdout",
     "output_type": "stream",
     "text": [
      "<class 'pandas.core.series.Series'>\n",
      "Int64Index: 186099 entries, 0 to 256983\n",
      "Series name: Current Loan Amount\n",
      "Non-Null Count   Dtype\n",
      "--------------   -----\n",
      "186099 non-null  int64\n",
      "dtypes: int64(1)\n",
      "memory usage: 2.8 MB\n"
     ]
    }
   ],
   "source": [
    "df[\"Current Loan Amount\"].info()"
   ]
  },
  {
   "cell_type": "code",
   "execution_count": 131,
   "id": "3b48a06e",
   "metadata": {},
   "outputs": [],
   "source": [
    "#df[\"Current Loan Amount\"]=pd.to_numeric(df[\"Current Loan Amount\"])#\n",
    "#<df[\"Current Loan Amount\"].astype(str).astype(float).astype(int)\n",
    "df[\"Current Loan Amount\"] = pd.to_numeric(df[\"Current Loan Amount\"], errors='coerce').fillna(0, downcast='infer')\n",
    "df[\"Maximum Open Credit\"] = pd.to_numeric(df[\"Maximum Open Credit\"], errors='coerce').fillna(0, downcast='infer')\n",
    "#df['Monthly Debt'].apply(lambda x: x.split('$')[0])\n",
    "df['Monthly Debt']= df['Monthly Debt'].str.replace('$','')\n",
    "#df[\"Current Loan Amount\"]."
   ]
  },
  {
   "cell_type": "code",
   "execution_count": 132,
   "id": "267b5a09",
   "metadata": {},
   "outputs": [],
   "source": [
    "df['Monthly Debt'] = df['Monthly Debt'].apply(lambda x: x.replace(',', ''))"
   ]
  },
  {
   "cell_type": "code",
   "execution_count": 133,
   "id": "eacc7784",
   "metadata": {},
   "outputs": [
    {
     "data": {
      "text/plain": [
       "0          584.03\n",
       "1         1106.04\n",
       "2         1321.85\n",
       "3          751.92\n",
       "4          355.18\n",
       "           ...   \n",
       "256978     982.82\n",
       "256980    1376.47\n",
       "256981     297.96\n",
       "256982     297.96\n",
       "256983    2525.82\n",
       "Name: Monthly Debt, Length: 186099, dtype: float64"
      ]
     },
     "execution_count": 133,
     "metadata": {},
     "output_type": "execute_result"
    }
   ],
   "source": [
    "#df['Monthly Debt'] = pd.to_numeric(df['Monthly Debt'], errors='ignore',downcast='int64')\n",
    "df['Monthly Debt'].astype(float)\n"
   ]
  },
  {
   "cell_type": "code",
   "execution_count": 134,
   "id": "c81c6c21",
   "metadata": {},
   "outputs": [
    {
     "data": {
      "text/plain": [
       "0          584\n",
       "1         1106\n",
       "2         1321\n",
       "3          751\n",
       "4          355\n",
       "          ... \n",
       "256978     982\n",
       "256980    1376\n",
       "256981     297\n",
       "256982     297\n",
       "256983    2525\n",
       "Name: Monthly Debt, Length: 186099, dtype: int32"
      ]
     },
     "execution_count": 134,
     "metadata": {},
     "output_type": "execute_result"
    }
   ],
   "source": [
    "df['Monthly Debt'] = df['Monthly Debt'].apply(pd.to_numeric, errors='ignore')\n",
    "df['Monthly Debt'].astype(int)"
   ]
  },
  {
   "cell_type": "code",
   "execution_count": 135,
   "id": "e01e7158",
   "metadata": {},
   "outputs": [
    {
     "data": {
      "text/plain": [
       "(0         11520\n",
       " 1          3441\n",
       " 2         21029\n",
       " 3         18743\n",
       " 4         11731\n",
       "           ...  \n",
       " 256978    11953\n",
       " 256980     5078\n",
       " 256981    12116\n",
       " 256982    12116\n",
       " 256983    27902\n",
       " Name: Current Loan Amount, Length: 186099, dtype: int64,\n",
       " 0         16056\n",
       " 1         19149\n",
       " 2         28335\n",
       " 3         43915\n",
       " 4         37081\n",
       "           ...  \n",
       " 256978     4783\n",
       " 256980     9758\n",
       " 256981    20090\n",
       " 256982    20090\n",
       " 256983    62371\n",
       " Name: Maximum Open Credit, Length: 186099, dtype: int64,\n",
       " 0          584.03\n",
       " 1         1106.04\n",
       " 2         1321.85\n",
       " 3          751.92\n",
       " 4          355.18\n",
       "            ...   \n",
       " 256978     982.82\n",
       " 256980    1376.47\n",
       " 256981     297.96\n",
       " 256982     297.96\n",
       " 256983    2525.82\n",
       " Name: Monthly Debt, Length: 186099, dtype: float64)"
      ]
     },
     "execution_count": 135,
     "metadata": {},
     "output_type": "execute_result"
    }
   ],
   "source": [
    "df[\"Current Loan Amount\"],df[\"Maximum Open Credit\"],df['Monthly Debt']\n"
   ]
  },
  {
   "cell_type": "code",
   "execution_count": 172,
   "id": "c8bc5067",
   "metadata": {},
   "outputs": [
    {
     "data": {
      "image/png": "[encoded data removed]",
      "text/plain": [
       "<Figure size 720x576 with 1 Axes>"
      ]
     },
     "metadata": {
      "needs_background": "light"
     },
     "output_type": "display_data"
    }
   ],
   "source": [
    "# alıntı: https://www.kaggle.com/code/karnikakapoor/customer-segmentation-clustering\n",
    "\n",
    "# Pek birşey anlaşılmadı , özellikle x den z bakarken yani Monthly Debt in Maximum Open Credite bakarken.\n",
    "from matplotlib import colors\n",
    "fig = plt.figure(figsize=(10,8))\n",
    "cmap = colors.ListedColormap([\"#682F2F\", \"#9E726F\", \"#D6B2B1\", \"#B9C0C9\", \"#9F8A78\", \"#F3AB60\"])\n",
    "ax = plt.subplot(111, projection='3d', label=\"bla\")\n",
    "ax.scatter(df['Monthly Debt'],df[\"Current Loan Amount\"],df[\"Maximum Open Credit\"], s=100,c=\"maroon\", marker='.', cmap = cmap )\n",
    "ax.set_title(\"The Plot Of The Clusters\")\n",
    "plt.xlabel('x')\n",
    "plt.ylabel('y')\n",
    "\n",
    "plt.show()"
   ]
  },
  {
   "cell_type": "code",
   "execution_count": 140,
   "id": "62f1ee65",
   "metadata": {},
   "outputs": [
    {
     "data": {
      "text/html": [
       "<div>\n",
       "<style scoped>\n",
       "    .dataframe tbody tr th:only-of-type {\n",
       "        vertical-align: middle;\n",
       "    }\n",
       "\n",
       "    .dataframe tbody tr th {\n",
       "        vertical-align: top;\n",
       "    }\n",
       "\n",
       "    .dataframe thead th {\n",
       "        text-align: right;\n",
       "    }\n",
       "</style>\n",
       "<table border=\"1\" class=\"dataframe\">\n",
       "  <thead>\n",
       "    <tr style=\"text-align: right;\">\n",
       "      <th></th>\n",
       "      <th>Loan Status</th>\n",
       "      <th>Term</th>\n",
       "      <th>Years in current job</th>\n",
       "      <th>Home Ownership</th>\n",
       "      <th>Purpose</th>\n",
       "    </tr>\n",
       "  </thead>\n",
       "  <tbody>\n",
       "    <tr>\n",
       "      <th>0</th>\n",
       "      <td>Fully Paid</td>\n",
       "      <td>Short Term</td>\n",
       "      <td>10+ years</td>\n",
       "      <td>Home Mortgage</td>\n",
       "      <td>Debt Consolidation</td>\n",
       "    </tr>\n",
       "    <tr>\n",
       "      <th>1</th>\n",
       "      <td>Fully Paid</td>\n",
       "      <td>Short Term</td>\n",
       "      <td>4 years</td>\n",
       "      <td>Home Mortgage</td>\n",
       "      <td>other</td>\n",
       "    </tr>\n",
       "    <tr>\n",
       "      <th>2</th>\n",
       "      <td>Fully Paid</td>\n",
       "      <td>Short Term</td>\n",
       "      <td>10+ years</td>\n",
       "      <td>Home Mortgage</td>\n",
       "      <td>Debt Consolidation</td>\n",
       "    </tr>\n",
       "    <tr>\n",
       "      <th>3</th>\n",
       "      <td>Fully Paid</td>\n",
       "      <td>Short Term</td>\n",
       "      <td>10+ years</td>\n",
       "      <td>Own Home</td>\n",
       "      <td>Debt Consolidation</td>\n",
       "    </tr>\n",
       "    <tr>\n",
       "      <th>4</th>\n",
       "      <td>Fully Paid</td>\n",
       "      <td>Short Term</td>\n",
       "      <td>4 years</td>\n",
       "      <td>Rent</td>\n",
       "      <td>Debt Consolidation</td>\n",
       "    </tr>\n",
       "    <tr>\n",
       "      <th>...</th>\n",
       "      <td>...</td>\n",
       "      <td>...</td>\n",
       "      <td>...</td>\n",
       "      <td>...</td>\n",
       "      <td>...</td>\n",
       "    </tr>\n",
       "    <tr>\n",
       "      <th>256978</th>\n",
       "      <td>Charged Off</td>\n",
       "      <td>Short Term</td>\n",
       "      <td>10+ years</td>\n",
       "      <td>Home Mortgage</td>\n",
       "      <td>Debt Consolidation</td>\n",
       "    </tr>\n",
       "    <tr>\n",
       "      <th>256980</th>\n",
       "      <td>Fully Paid</td>\n",
       "      <td>Short Term</td>\n",
       "      <td>10+ years</td>\n",
       "      <td>Own Home</td>\n",
       "      <td>Debt Consolidation</td>\n",
       "    </tr>\n",
       "    <tr>\n",
       "      <th>256981</th>\n",
       "      <td>Charged Off</td>\n",
       "      <td>Short Term</td>\n",
       "      <td>9 years</td>\n",
       "      <td>Home Mortgage</td>\n",
       "      <td>Debt Consolidation</td>\n",
       "    </tr>\n",
       "    <tr>\n",
       "      <th>256982</th>\n",
       "      <td>Charged Off</td>\n",
       "      <td>Short Term</td>\n",
       "      <td>9 years</td>\n",
       "      <td>Home Mortgage</td>\n",
       "      <td>Debt Consolidation</td>\n",
       "    </tr>\n",
       "    <tr>\n",
       "      <th>256983</th>\n",
       "      <td>Fully Paid</td>\n",
       "      <td>Long Term</td>\n",
       "      <td>10+ years</td>\n",
       "      <td>Home Mortgage</td>\n",
       "      <td>Debt Consolidation</td>\n",
       "    </tr>\n",
       "  </tbody>\n",
       "</table>\n",
       "<p>186099 rows × 5 columns</p>\n",
       "</div>"
      ],
      "text/plain": [
       "        Loan Status        Term Years in current job Home Ownership  \\\n",
       "0        Fully Paid  Short Term            10+ years  Home Mortgage   \n",
       "1        Fully Paid  Short Term              4 years  Home Mortgage   \n",
       "2        Fully Paid  Short Term            10+ years  Home Mortgage   \n",
       "3        Fully Paid  Short Term            10+ years       Own Home   \n",
       "4        Fully Paid  Short Term              4 years           Rent   \n",
       "...             ...         ...                  ...            ...   \n",
       "256978  Charged Off  Short Term            10+ years  Home Mortgage   \n",
       "256980   Fully Paid  Short Term            10+ years       Own Home   \n",
       "256981  Charged Off  Short Term              9 years  Home Mortgage   \n",
       "256982  Charged Off  Short Term              9 years  Home Mortgage   \n",
       "256983   Fully Paid   Long Term            10+ years  Home Mortgage   \n",
       "\n",
       "                   Purpose  \n",
       "0       Debt Consolidation  \n",
       "1                    other  \n",
       "2       Debt Consolidation  \n",
       "3       Debt Consolidation  \n",
       "4       Debt Consolidation  \n",
       "...                    ...  \n",
       "256978  Debt Consolidation  \n",
       "256980  Debt Consolidation  \n",
       "256981  Debt Consolidation  \n",
       "256982  Debt Consolidation  \n",
       "256983  Debt Consolidation  \n",
       "\n",
       "[186099 rows x 5 columns]"
      ]
     },
     "execution_count": 140,
     "metadata": {},
     "output_type": "execute_result"
    }
   ],
   "source": [
    "df.select_dtypes(\"object\")"
   ]
  },
  {
   "cell_type": "code",
   "execution_count": 141,
   "id": "54e973c9",
   "metadata": {},
   "outputs": [
    {
     "data": {
      "text/html": [
       "<div>\n",
       "<style scoped>\n",
       "    .dataframe tbody tr th:only-of-type {\n",
       "        vertical-align: middle;\n",
       "    }\n",
       "\n",
       "    .dataframe tbody tr th {\n",
       "        vertical-align: top;\n",
       "    }\n",
       "\n",
       "    .dataframe thead th {\n",
       "        text-align: right;\n",
       "    }\n",
       "</style>\n",
       "<table border=\"1\" class=\"dataframe\">\n",
       "  <thead>\n",
       "    <tr style=\"text-align: right;\">\n",
       "      <th></th>\n",
       "      <th>Current Loan Amount</th>\n",
       "      <th>Credit Score</th>\n",
       "      <th>Annual Income</th>\n",
       "      <th>Monthly Debt</th>\n",
       "      <th>Years of Credit History</th>\n",
       "      <th>Number of Open Accounts</th>\n",
       "      <th>Number of Credit Problems</th>\n",
       "      <th>Current Credit Balance</th>\n",
       "      <th>Maximum Open Credit</th>\n",
       "      <th>Bankruptcies</th>\n",
       "      <th>Tax Liens</th>\n",
       "    </tr>\n",
       "  </thead>\n",
       "  <tbody>\n",
       "    <tr>\n",
       "      <th>count</th>\n",
       "      <td>1.860990e+05</td>\n",
       "      <td>186099.000000</td>\n",
       "      <td>1.860990e+05</td>\n",
       "      <td>186099.000000</td>\n",
       "      <td>186099.000000</td>\n",
       "      <td>186099.000000</td>\n",
       "      <td>186099.000000</td>\n",
       "      <td>1.860990e+05</td>\n",
       "      <td>1.860990e+05</td>\n",
       "      <td>186099.000000</td>\n",
       "      <td>186099.000000</td>\n",
       "    </tr>\n",
       "    <tr>\n",
       "      <th>mean</th>\n",
       "      <td>1.815463e+07</td>\n",
       "      <td>1243.677064</td>\n",
       "      <td>7.312158e+04</td>\n",
       "      <td>975.663151</td>\n",
       "      <td>18.065683</td>\n",
       "      <td>11.162741</td>\n",
       "      <td>0.152268</td>\n",
       "      <td>1.550656e+04</td>\n",
       "      <td>3.639266e+04</td>\n",
       "      <td>0.106476</td>\n",
       "      <td>0.026867</td>\n",
       "    </tr>\n",
       "    <tr>\n",
       "      <th>std</th>\n",
       "      <td>3.853207e+07</td>\n",
       "      <td>1750.275192</td>\n",
       "      <td>5.965893e+04</td>\n",
       "      <td>637.126324</td>\n",
       "      <td>6.834610</td>\n",
       "      <td>4.989789</td>\n",
       "      <td>0.455267</td>\n",
       "      <td>1.898177e+04</td>\n",
       "      <td>6.411851e+05</td>\n",
       "      <td>0.330806</td>\n",
       "      <td>0.243869</td>\n",
       "    </tr>\n",
       "    <tr>\n",
       "      <th>min</th>\n",
       "      <td>9.750000e+02</td>\n",
       "      <td>585.000000</td>\n",
       "      <td>4.033000e+03</td>\n",
       "      <td>0.000000</td>\n",
       "      <td>3.400000</td>\n",
       "      <td>0.000000</td>\n",
       "      <td>0.000000</td>\n",
       "      <td>0.000000e+00</td>\n",
       "      <td>0.000000e+00</td>\n",
       "      <td>0.000000</td>\n",
       "      <td>0.000000</td>\n",
       "    </tr>\n",
       "    <tr>\n",
       "      <th>25%</th>\n",
       "      <td>9.006000e+03</td>\n",
       "      <td>714.000000</td>\n",
       "      <td>4.509500e+04</td>\n",
       "      <td>543.990000</td>\n",
       "      <td>13.500000</td>\n",
       "      <td>8.000000</td>\n",
       "      <td>0.000000</td>\n",
       "      <td>6.050000e+03</td>\n",
       "      <td>1.290300e+04</td>\n",
       "      <td>0.000000</td>\n",
       "      <td>0.000000</td>\n",
       "    </tr>\n",
       "    <tr>\n",
       "      <th>50%</th>\n",
       "      <td>1.505100e+04</td>\n",
       "      <td>733.000000</td>\n",
       "      <td>6.246500e+04</td>\n",
       "      <td>856.520000</td>\n",
       "      <td>16.900000</td>\n",
       "      <td>10.000000</td>\n",
       "      <td>0.000000</td>\n",
       "      <td>1.118700e+04</td>\n",
       "      <td>2.191700e+04</td>\n",
       "      <td>0.000000</td>\n",
       "      <td>0.000000</td>\n",
       "    </tr>\n",
       "    <tr>\n",
       "      <th>75%</th>\n",
       "      <td>2.788150e+04</td>\n",
       "      <td>744.000000</td>\n",
       "      <td>8.788200e+04</td>\n",
       "      <td>1265.050000</td>\n",
       "      <td>21.500000</td>\n",
       "      <td>14.000000</td>\n",
       "      <td>0.000000</td>\n",
       "      <td>1.948100e+04</td>\n",
       "      <td>3.639250e+04</td>\n",
       "      <td>0.000000</td>\n",
       "      <td>0.000000</td>\n",
       "    </tr>\n",
       "    <tr>\n",
       "      <th>max</th>\n",
       "      <td>1.000000e+08</td>\n",
       "      <td>7510.000000</td>\n",
       "      <td>8.713547e+06</td>\n",
       "      <td>22939.120000</td>\n",
       "      <td>70.500000</td>\n",
       "      <td>76.000000</td>\n",
       "      <td>10.000000</td>\n",
       "      <td>1.730472e+06</td>\n",
       "      <td>1.763322e+08</td>\n",
       "      <td>7.000000</td>\n",
       "      <td>10.000000</td>\n",
       "    </tr>\n",
       "  </tbody>\n",
       "</table>\n",
       "</div>"
      ],
      "text/plain": [
       "       Current Loan Amount   Credit Score  Annual Income   Monthly Debt  \\\n",
       "count         1.860990e+05  186099.000000   1.860990e+05  186099.000000   \n",
       "mean          1.815463e+07    1243.677064   7.312158e+04     975.663151   \n",
       "std           3.853207e+07    1750.275192   5.965893e+04     637.126324   \n",
       "min           9.750000e+02     585.000000   4.033000e+03       0.000000   \n",
       "25%           9.006000e+03     714.000000   4.509500e+04     543.990000   \n",
       "50%           1.505100e+04     733.000000   6.246500e+04     856.520000   \n",
       "75%           2.788150e+04     744.000000   8.788200e+04    1265.050000   \n",
       "max           1.000000e+08    7510.000000   8.713547e+06   22939.120000   \n",
       "\n",
       "       Years of Credit History  Number of Open Accounts  \\\n",
       "count            186099.000000            186099.000000   \n",
       "mean                 18.065683                11.162741   \n",
       "std                   6.834610                 4.989789   \n",
       "min                   3.400000                 0.000000   \n",
       "25%                  13.500000                 8.000000   \n",
       "50%                  16.900000                10.000000   \n",
       "75%                  21.500000                14.000000   \n",
       "max                  70.500000                76.000000   \n",
       "\n",
       "       Number of Credit Problems  Current Credit Balance  Maximum Open Credit  \\\n",
       "count              186099.000000            1.860990e+05         1.860990e+05   \n",
       "mean                    0.152268            1.550656e+04         3.639266e+04   \n",
       "std                     0.455267            1.898177e+04         6.411851e+05   \n",
       "min                     0.000000            0.000000e+00         0.000000e+00   \n",
       "25%                     0.000000            6.050000e+03         1.290300e+04   \n",
       "50%                     0.000000            1.118700e+04         2.191700e+04   \n",
       "75%                     0.000000            1.948100e+04         3.639250e+04   \n",
       "max                    10.000000            1.730472e+06         1.763322e+08   \n",
       "\n",
       "        Bankruptcies      Tax Liens  \n",
       "count  186099.000000  186099.000000  \n",
       "mean        0.106476       0.026867  \n",
       "std         0.330806       0.243869  \n",
       "min         0.000000       0.000000  \n",
       "25%         0.000000       0.000000  \n",
       "50%         0.000000       0.000000  \n",
       "75%         0.000000       0.000000  \n",
       "max         7.000000      10.000000  "
      ]
     },
     "execution_count": 141,
     "metadata": {},
     "output_type": "execute_result"
    }
   ],
   "source": [
    "df.describe()"
   ]
  },
  {
   "cell_type": "code",
   "execution_count": 142,
   "id": "40f5eccb",
   "metadata": {},
   "outputs": [
    {
     "data": {
      "text/html": [
       "<div>\n",
       "<style scoped>\n",
       "    .dataframe tbody tr th:only-of-type {\n",
       "        vertical-align: middle;\n",
       "    }\n",
       "\n",
       "    .dataframe tbody tr th {\n",
       "        vertical-align: top;\n",
       "    }\n",
       "\n",
       "    .dataframe thead th {\n",
       "        text-align: right;\n",
       "    }\n",
       "</style>\n",
       "<table border=\"1\" class=\"dataframe\">\n",
       "  <thead>\n",
       "    <tr style=\"text-align: right;\">\n",
       "      <th></th>\n",
       "      <th>Current Loan Amount</th>\n",
       "      <th>Credit Score</th>\n",
       "      <th>Annual Income</th>\n",
       "      <th>Monthly Debt</th>\n",
       "      <th>Years of Credit History</th>\n",
       "      <th>Number of Open Accounts</th>\n",
       "      <th>Number of Credit Problems</th>\n",
       "      <th>Current Credit Balance</th>\n",
       "      <th>Maximum Open Credit</th>\n",
       "      <th>Bankruptcies</th>\n",
       "      <th>Tax Liens</th>\n",
       "    </tr>\n",
       "  </thead>\n",
       "  <tbody>\n",
       "    <tr>\n",
       "      <th>Current Loan Amount</th>\n",
       "      <td>1.000000</td>\n",
       "      <td>-0.139224</td>\n",
       "      <td>0.023237</td>\n",
       "      <td>-0.002817</td>\n",
       "      <td>0.019014</td>\n",
       "      <td>-0.004327</td>\n",
       "      <td>-0.000630</td>\n",
       "      <td>0.004343</td>\n",
       "      <td>0.006443</td>\n",
       "      <td>0.003903</td>\n",
       "      <td>-0.004752</td>\n",
       "    </tr>\n",
       "    <tr>\n",
       "      <th>Credit Score</th>\n",
       "      <td>-0.139224</td>\n",
       "      <td>1.000000</td>\n",
       "      <td>-0.031780</td>\n",
       "      <td>0.007876</td>\n",
       "      <td>-0.014937</td>\n",
       "      <td>0.010709</td>\n",
       "      <td>-0.000318</td>\n",
       "      <td>-0.002846</td>\n",
       "      <td>-0.001920</td>\n",
       "      <td>-0.003786</td>\n",
       "      <td>0.003972</td>\n",
       "    </tr>\n",
       "    <tr>\n",
       "      <th>Annual Income</th>\n",
       "      <td>0.023237</td>\n",
       "      <td>-0.031780</td>\n",
       "      <td>1.000000</td>\n",
       "      <td>0.447881</td>\n",
       "      <td>0.165477</td>\n",
       "      <td>0.133533</td>\n",
       "      <td>-0.006988</td>\n",
       "      <td>0.288345</td>\n",
       "      <td>0.029049</td>\n",
       "      <td>-0.038113</td>\n",
       "      <td>0.040284</td>\n",
       "    </tr>\n",
       "    <tr>\n",
       "      <th>Monthly Debt</th>\n",
       "      <td>-0.002817</td>\n",
       "      <td>0.007876</td>\n",
       "      <td>0.447881</td>\n",
       "      <td>1.000000</td>\n",
       "      <td>0.210496</td>\n",
       "      <td>0.406626</td>\n",
       "      <td>-0.046367</td>\n",
       "      <td>0.477569</td>\n",
       "      <td>0.021617</td>\n",
       "      <td>-0.070861</td>\n",
       "      <td>0.021017</td>\n",
       "    </tr>\n",
       "    <tr>\n",
       "      <th>Years of Credit History</th>\n",
       "      <td>0.019014</td>\n",
       "      <td>-0.014937</td>\n",
       "      <td>0.165477</td>\n",
       "      <td>0.210496</td>\n",
       "      <td>1.000000</td>\n",
       "      <td>0.138108</td>\n",
       "      <td>0.058931</td>\n",
       "      <td>0.217976</td>\n",
       "      <td>0.019933</td>\n",
       "      <td>0.057927</td>\n",
       "      <td>0.021977</td>\n",
       "    </tr>\n",
       "    <tr>\n",
       "      <th>Number of Open Accounts</th>\n",
       "      <td>-0.004327</td>\n",
       "      <td>0.010709</td>\n",
       "      <td>0.133533</td>\n",
       "      <td>0.406626</td>\n",
       "      <td>0.138108</td>\n",
       "      <td>1.000000</td>\n",
       "      <td>-0.011531</td>\n",
       "      <td>0.227414</td>\n",
       "      <td>0.015438</td>\n",
       "      <td>-0.018096</td>\n",
       "      <td>0.002801</td>\n",
       "    </tr>\n",
       "    <tr>\n",
       "      <th>Number of Credit Problems</th>\n",
       "      <td>-0.000630</td>\n",
       "      <td>-0.000318</td>\n",
       "      <td>-0.006988</td>\n",
       "      <td>-0.046367</td>\n",
       "      <td>0.058931</td>\n",
       "      <td>-0.011531</td>\n",
       "      <td>1.000000</td>\n",
       "      <td>-0.105006</td>\n",
       "      <td>-0.008027</td>\n",
       "      <td>0.754365</td>\n",
       "      <td>0.588804</td>\n",
       "    </tr>\n",
       "    <tr>\n",
       "      <th>Current Credit Balance</th>\n",
       "      <td>0.004343</td>\n",
       "      <td>-0.002846</td>\n",
       "      <td>0.288345</td>\n",
       "      <td>0.477569</td>\n",
       "      <td>0.217976</td>\n",
       "      <td>0.227414</td>\n",
       "      <td>-0.105006</td>\n",
       "      <td>1.000000</td>\n",
       "      <td>0.097548</td>\n",
       "      <td>-0.119352</td>\n",
       "      <td>-0.012005</td>\n",
       "    </tr>\n",
       "    <tr>\n",
       "      <th>Maximum Open Credit</th>\n",
       "      <td>0.006443</td>\n",
       "      <td>-0.001920</td>\n",
       "      <td>0.029049</td>\n",
       "      <td>0.021617</td>\n",
       "      <td>0.019933</td>\n",
       "      <td>0.015438</td>\n",
       "      <td>-0.008027</td>\n",
       "      <td>0.097548</td>\n",
       "      <td>1.000000</td>\n",
       "      <td>-0.008928</td>\n",
       "      <td>-0.001158</td>\n",
       "    </tr>\n",
       "    <tr>\n",
       "      <th>Bankruptcies</th>\n",
       "      <td>0.003903</td>\n",
       "      <td>-0.003786</td>\n",
       "      <td>-0.038113</td>\n",
       "      <td>-0.070861</td>\n",
       "      <td>0.057927</td>\n",
       "      <td>-0.018096</td>\n",
       "      <td>0.754365</td>\n",
       "      <td>-0.119352</td>\n",
       "      <td>-0.008928</td>\n",
       "      <td>1.000000</td>\n",
       "      <td>0.048599</td>\n",
       "    </tr>\n",
       "    <tr>\n",
       "      <th>Tax Liens</th>\n",
       "      <td>-0.004752</td>\n",
       "      <td>0.003972</td>\n",
       "      <td>0.040284</td>\n",
       "      <td>0.021017</td>\n",
       "      <td>0.021977</td>\n",
       "      <td>0.002801</td>\n",
       "      <td>0.588804</td>\n",
       "      <td>-0.012005</td>\n",
       "      <td>-0.001158</td>\n",
       "      <td>0.048599</td>\n",
       "      <td>1.000000</td>\n",
       "    </tr>\n",
       "  </tbody>\n",
       "</table>\n",
       "</div>"
      ],
      "text/plain": [
       "                           Current Loan Amount  Credit Score  Annual Income  \\\n",
       "Current Loan Amount                   1.000000     -0.139224       0.023237   \n",
       "Credit Score                         -0.139224      1.000000      -0.031780   \n",
       "Annual Income                         0.023237     -0.031780       1.000000   \n",
       "Monthly Debt                         -0.002817      0.007876       0.447881   \n",
       "Years of Credit History               0.019014     -0.014937       0.165477   \n",
       "Number of Open Accounts              -0.004327      0.010709       0.133533   \n",
       "Number of Credit Problems            -0.000630     -0.000318      -0.006988   \n",
       "Current Credit Balance                0.004343     -0.002846       0.288345   \n",
       "Maximum Open Credit                   0.006443     -0.001920       0.029049   \n",
       "Bankruptcies                          0.003903     -0.003786      -0.038113   \n",
       "Tax Liens                            -0.004752      0.003972       0.040284   \n",
       "\n",
       "                           Monthly Debt  Years of Credit History  \\\n",
       "Current Loan Amount           -0.002817                 0.019014   \n",
       "Credit Score                   0.007876                -0.014937   \n",
       "Annual Income                  0.447881                 0.165477   \n",
       "Monthly Debt                   1.000000                 0.210496   \n",
       "Years of Credit History        0.210496                 1.000000   \n",
       "Number of Open Accounts        0.406626                 0.138108   \n",
       "Number of Credit Problems     -0.046367                 0.058931   \n",
       "Current Credit Balance         0.477569                 0.217976   \n",
       "Maximum Open Credit            0.021617                 0.019933   \n",
       "Bankruptcies                  -0.070861                 0.057927   \n",
       "Tax Liens                      0.021017                 0.021977   \n",
       "\n",
       "                           Number of Open Accounts  Number of Credit Problems  \\\n",
       "Current Loan Amount                      -0.004327                  -0.000630   \n",
       "Credit Score                              0.010709                  -0.000318   \n",
       "Annual Income                             0.133533                  -0.006988   \n",
       "Monthly Debt                              0.406626                  -0.046367   \n",
       "Years of Credit History                   0.138108                   0.058931   \n",
       "Number of Open Accounts                   1.000000                  -0.011531   \n",
       "Number of Credit Problems                -0.011531                   1.000000   \n",
       "Current Credit Balance                    0.227414                  -0.105006   \n",
       "Maximum Open Credit                       0.015438                  -0.008027   \n",
       "Bankruptcies                             -0.018096                   0.754365   \n",
       "Tax Liens                                 0.002801                   0.588804   \n",
       "\n",
       "                           Current Credit Balance  Maximum Open Credit  \\\n",
       "Current Loan Amount                      0.004343             0.006443   \n",
       "Credit Score                            -0.002846            -0.001920   \n",
       "Annual Income                            0.288345             0.029049   \n",
       "Monthly Debt                             0.477569             0.021617   \n",
       "Years of Credit History                  0.217976             0.019933   \n",
       "Number of Open Accounts                  0.227414             0.015438   \n",
       "Number of Credit Problems               -0.105006            -0.008027   \n",
       "Current Credit Balance                   1.000000             0.097548   \n",
       "Maximum Open Credit                      0.097548             1.000000   \n",
       "Bankruptcies                            -0.119352            -0.008928   \n",
       "Tax Liens                               -0.012005            -0.001158   \n",
       "\n",
       "                           Bankruptcies  Tax Liens  \n",
       "Current Loan Amount            0.003903  -0.004752  \n",
       "Credit Score                  -0.003786   0.003972  \n",
       "Annual Income                 -0.038113   0.040284  \n",
       "Monthly Debt                  -0.070861   0.021017  \n",
       "Years of Credit History        0.057927   0.021977  \n",
       "Number of Open Accounts       -0.018096   0.002801  \n",
       "Number of Credit Problems      0.754365   0.588804  \n",
       "Current Credit Balance        -0.119352  -0.012005  \n",
       "Maximum Open Credit           -0.008928  -0.001158  \n",
       "Bankruptcies                   1.000000   0.048599  \n",
       "Tax Liens                      0.048599   1.000000  "
      ]
     },
     "execution_count": 142,
     "metadata": {},
     "output_type": "execute_result"
    }
   ],
   "source": [
    "df.corr()"
   ]
  },
  {
   "cell_type": "code",
   "execution_count": 143,
   "id": "f3a97fa4",
   "metadata": {},
   "outputs": [
    {
     "data": {
      "text/plain": [
       "(186099, 16)"
      ]
     },
     "execution_count": 143,
     "metadata": {},
     "output_type": "execute_result"
    }
   ],
   "source": [
    "df.shape"
   ]
  },
  {
   "cell_type": "code",
   "execution_count": 144,
   "id": "7ce90f9b",
   "metadata": {},
   "outputs": [
    {
     "data": {
      "text/plain": [
       "Index(['Loan Status', 'Current Loan Amount', 'Term', 'Credit Score',\n",
       "       'Years in current job', 'Home Ownership', 'Annual Income', 'Purpose',\n",
       "       'Monthly Debt', 'Years of Credit History', 'Number of Open Accounts',\n",
       "       'Number of Credit Problems', 'Current Credit Balance',\n",
       "       'Maximum Open Credit', 'Bankruptcies', 'Tax Liens'],\n",
       "      dtype='object')"
      ]
     },
     "execution_count": 144,
     "metadata": {},
     "output_type": "execute_result"
    }
   ],
   "source": [
    "df.columns"
   ]
  },
  {
   "cell_type": "code",
   "execution_count": 145,
   "id": "3fcdcba5",
   "metadata": {},
   "outputs": [
    {
     "data": {
      "text/plain": [
       "Fully Paid     0.69089\n",
       "Charged Off    0.30911\n",
       "Name: Loan Status, dtype: float64"
      ]
     },
     "execution_count": 145,
     "metadata": {},
     "output_type": "execute_result"
    }
   ],
   "source": [
    "df['Loan Status'].value_counts(dropna=False,normalize=True)"
   ]
  },
  {
   "cell_type": "code",
   "execution_count": 146,
   "id": "b29a86e0",
   "metadata": {},
   "outputs": [
    {
     "data": {
      "text/plain": [
       "Debt Consolidation      0.795136\n",
       "Home Improvements       0.057620\n",
       "other                   0.054847\n",
       "Other                   0.037582\n",
       "Business Loan           0.018469\n",
       "Buy a Car               0.012816\n",
       "Medical Bills           0.010736\n",
       "Take a Trip             0.006002\n",
       "Buy House               0.005873\n",
       "Educational Expenses    0.000919\n",
       "Name: Purpose, dtype: float64"
      ]
     },
     "execution_count": 146,
     "metadata": {},
     "output_type": "execute_result"
    }
   ],
   "source": [
    "df['Purpose'].value_counts(dropna=False,normalize=True)"
   ]
  },
  {
   "cell_type": "code",
   "execution_count": 147,
   "id": "ac2542cf",
   "metadata": {},
   "outputs": [
    {
     "data": {
      "text/html": [
       "<div>\n",
       "<style scoped>\n",
       "    .dataframe tbody tr th:only-of-type {\n",
       "        vertical-align: middle;\n",
       "    }\n",
       "\n",
       "    .dataframe tbody tr th {\n",
       "        vertical-align: top;\n",
       "    }\n",
       "\n",
       "    .dataframe thead th {\n",
       "        text-align: right;\n",
       "    }\n",
       "</style>\n",
       "<table border=\"1\" class=\"dataframe\">\n",
       "  <thead>\n",
       "    <tr style=\"text-align: right;\">\n",
       "      <th></th>\n",
       "      <th></th>\n",
       "      <th>Current Loan Amount</th>\n",
       "      <th>Credit Score</th>\n",
       "      <th>Annual Income</th>\n",
       "      <th>Monthly Debt</th>\n",
       "      <th>Years of Credit History</th>\n",
       "      <th>Number of Open Accounts</th>\n",
       "      <th>Number of Credit Problems</th>\n",
       "      <th>Current Credit Balance</th>\n",
       "      <th>Maximum Open Credit</th>\n",
       "      <th>Bankruptcies</th>\n",
       "      <th>Tax Liens</th>\n",
       "    </tr>\n",
       "    <tr>\n",
       "      <th>Loan Status</th>\n",
       "      <th></th>\n",
       "      <th></th>\n",
       "      <th></th>\n",
       "      <th></th>\n",
       "      <th></th>\n",
       "      <th></th>\n",
       "      <th></th>\n",
       "      <th></th>\n",
       "      <th></th>\n",
       "      <th></th>\n",
       "      <th></th>\n",
       "      <th></th>\n",
       "    </tr>\n",
       "  </thead>\n",
       "  <tbody>\n",
       "    <tr>\n",
       "      <th rowspan=\"11\" valign=\"top\">Charged Off</th>\n",
       "      <th>Current Loan Amount</th>\n",
       "      <td>1.000000</td>\n",
       "      <td>-0.017833</td>\n",
       "      <td>0.285984</td>\n",
       "      <td>0.443926</td>\n",
       "      <td>0.179413</td>\n",
       "      <td>0.197779</td>\n",
       "      <td>-0.046876</td>\n",
       "      <td>0.308656</td>\n",
       "      <td>0.055756</td>\n",
       "      <td>-0.074681</td>\n",
       "      <td>0.024747</td>\n",
       "    </tr>\n",
       "    <tr>\n",
       "      <th>Credit Score</th>\n",
       "      <td>-0.017833</td>\n",
       "      <td>1.000000</td>\n",
       "      <td>-0.004589</td>\n",
       "      <td>-0.003856</td>\n",
       "      <td>0.005481</td>\n",
       "      <td>-0.001508</td>\n",
       "      <td>-0.004957</td>\n",
       "      <td>-0.001037</td>\n",
       "      <td>0.008669</td>\n",
       "      <td>-0.002059</td>\n",
       "      <td>-0.002481</td>\n",
       "    </tr>\n",
       "    <tr>\n",
       "      <th>Annual Income</th>\n",
       "      <td>0.285984</td>\n",
       "      <td>-0.004589</td>\n",
       "      <td>1.000000</td>\n",
       "      <td>0.384892</td>\n",
       "      <td>0.123963</td>\n",
       "      <td>0.115852</td>\n",
       "      <td>0.016894</td>\n",
       "      <td>0.216905</td>\n",
       "      <td>0.034485</td>\n",
       "      <td>-0.023078</td>\n",
       "      <td>0.055753</td>\n",
       "    </tr>\n",
       "    <tr>\n",
       "      <th>Monthly Debt</th>\n",
       "      <td>0.443926</td>\n",
       "      <td>-0.003856</td>\n",
       "      <td>0.384892</td>\n",
       "      <td>1.000000</td>\n",
       "      <td>0.200556</td>\n",
       "      <td>0.393215</td>\n",
       "      <td>-0.021613</td>\n",
       "      <td>0.466948</td>\n",
       "      <td>0.059971</td>\n",
       "      <td>-0.056972</td>\n",
       "      <td>0.042572</td>\n",
       "    </tr>\n",
       "    <tr>\n",
       "      <th>Years of Credit History</th>\n",
       "      <td>0.179413</td>\n",
       "      <td>0.005481</td>\n",
       "      <td>0.123963</td>\n",
       "      <td>0.200556</td>\n",
       "      <td>1.000000</td>\n",
       "      <td>0.140542</td>\n",
       "      <td>0.065701</td>\n",
       "      <td>0.218447</td>\n",
       "      <td>0.046973</td>\n",
       "      <td>0.063595</td>\n",
       "      <td>0.025491</td>\n",
       "    </tr>\n",
       "    <tr>\n",
       "      <th>Number of Open Accounts</th>\n",
       "      <td>0.197779</td>\n",
       "      <td>-0.001508</td>\n",
       "      <td>0.115852</td>\n",
       "      <td>0.393215</td>\n",
       "      <td>0.140542</td>\n",
       "      <td>1.000000</td>\n",
       "      <td>-0.001513</td>\n",
       "      <td>0.237852</td>\n",
       "      <td>0.054112</td>\n",
       "      <td>-0.007473</td>\n",
       "      <td>0.004794</td>\n",
       "    </tr>\n",
       "    <tr>\n",
       "      <th>Number of Credit Problems</th>\n",
       "      <td>-0.046876</td>\n",
       "      <td>-0.004957</td>\n",
       "      <td>0.016894</td>\n",
       "      <td>-0.021613</td>\n",
       "      <td>0.065701</td>\n",
       "      <td>-0.001513</td>\n",
       "      <td>1.000000</td>\n",
       "      <td>-0.092188</td>\n",
       "      <td>-0.017295</td>\n",
       "      <td>0.720201</td>\n",
       "      <td>0.612170</td>\n",
       "    </tr>\n",
       "    <tr>\n",
       "      <th>Current Credit Balance</th>\n",
       "      <td>0.308656</td>\n",
       "      <td>-0.001037</td>\n",
       "      <td>0.216905</td>\n",
       "      <td>0.466948</td>\n",
       "      <td>0.218447</td>\n",
       "      <td>0.237852</td>\n",
       "      <td>-0.092188</td>\n",
       "      <td>1.000000</td>\n",
       "      <td>0.205812</td>\n",
       "      <td>-0.107282</td>\n",
       "      <td>-0.007531</td>\n",
       "    </tr>\n",
       "    <tr>\n",
       "      <th>Maximum Open Credit</th>\n",
       "      <td>0.055756</td>\n",
       "      <td>0.008669</td>\n",
       "      <td>0.034485</td>\n",
       "      <td>0.059971</td>\n",
       "      <td>0.046973</td>\n",
       "      <td>0.054112</td>\n",
       "      <td>-0.017295</td>\n",
       "      <td>0.205812</td>\n",
       "      <td>1.000000</td>\n",
       "      <td>-0.019902</td>\n",
       "      <td>-0.002216</td>\n",
       "    </tr>\n",
       "    <tr>\n",
       "      <th>Bankruptcies</th>\n",
       "      <td>-0.074681</td>\n",
       "      <td>-0.002059</td>\n",
       "      <td>-0.023078</td>\n",
       "      <td>-0.056972</td>\n",
       "      <td>0.063595</td>\n",
       "      <td>-0.007473</td>\n",
       "      <td>0.720201</td>\n",
       "      <td>-0.107282</td>\n",
       "      <td>-0.019902</td>\n",
       "      <td>1.000000</td>\n",
       "      <td>0.031584</td>\n",
       "    </tr>\n",
       "    <tr>\n",
       "      <th>Tax Liens</th>\n",
       "      <td>0.024747</td>\n",
       "      <td>-0.002481</td>\n",
       "      <td>0.055753</td>\n",
       "      <td>0.042572</td>\n",
       "      <td>0.025491</td>\n",
       "      <td>0.004794</td>\n",
       "      <td>0.612170</td>\n",
       "      <td>-0.007531</td>\n",
       "      <td>-0.002216</td>\n",
       "      <td>0.031584</td>\n",
       "      <td>1.000000</td>\n",
       "    </tr>\n",
       "    <tr>\n",
       "      <th rowspan=\"11\" valign=\"top\">Fully Paid</th>\n",
       "      <th>Current Loan Amount</th>\n",
       "      <td>1.000000</td>\n",
       "      <td>-0.003941</td>\n",
       "      <td>0.003046</td>\n",
       "      <td>0.005926</td>\n",
       "      <td>0.007455</td>\n",
       "      <td>0.005157</td>\n",
       "      <td>0.001827</td>\n",
       "      <td>0.003477</td>\n",
       "      <td>0.004402</td>\n",
       "      <td>0.002967</td>\n",
       "      <td>-0.001052</td>\n",
       "    </tr>\n",
       "    <tr>\n",
       "      <th>Credit Score</th>\n",
       "      <td>-0.003941</td>\n",
       "      <td>1.000000</td>\n",
       "      <td>0.011766</td>\n",
       "      <td>-0.077647</td>\n",
       "      <td>0.078924</td>\n",
       "      <td>-0.031103</td>\n",
       "      <td>-0.072319</td>\n",
       "      <td>-0.015830</td>\n",
       "      <td>0.008545</td>\n",
       "      <td>-0.062031</td>\n",
       "      <td>-0.026287</td>\n",
       "    </tr>\n",
       "    <tr>\n",
       "      <th>Annual Income</th>\n",
       "      <td>0.003046</td>\n",
       "      <td>0.011766</td>\n",
       "      <td>1.000000</td>\n",
       "      <td>0.486067</td>\n",
       "      <td>0.184056</td>\n",
       "      <td>0.146410</td>\n",
       "      <td>-0.018990</td>\n",
       "      <td>0.326049</td>\n",
       "      <td>0.032330</td>\n",
       "      <td>-0.046481</td>\n",
       "      <td>0.032791</td>\n",
       "    </tr>\n",
       "    <tr>\n",
       "      <th>Monthly Debt</th>\n",
       "      <td>0.005926</td>\n",
       "      <td>-0.077647</td>\n",
       "      <td>0.486067</td>\n",
       "      <td>1.000000</td>\n",
       "      <td>0.216776</td>\n",
       "      <td>0.412230</td>\n",
       "      <td>-0.058016</td>\n",
       "      <td>0.482653</td>\n",
       "      <td>0.020117</td>\n",
       "      <td>-0.076820</td>\n",
       "      <td>0.009742</td>\n",
       "    </tr>\n",
       "    <tr>\n",
       "      <th>Years of Credit History</th>\n",
       "      <td>0.007455</td>\n",
       "      <td>0.078924</td>\n",
       "      <td>0.184056</td>\n",
       "      <td>0.216776</td>\n",
       "      <td>1.000000</td>\n",
       "      <td>0.138866</td>\n",
       "      <td>0.056293</td>\n",
       "      <td>0.217782</td>\n",
       "      <td>0.018892</td>\n",
       "      <td>0.055226</td>\n",
       "      <td>0.021071</td>\n",
       "    </tr>\n",
       "    <tr>\n",
       "      <th>Number of Open Accounts</th>\n",
       "      <td>0.005157</td>\n",
       "      <td>-0.031103</td>\n",
       "      <td>0.146410</td>\n",
       "      <td>0.412230</td>\n",
       "      <td>0.138866</td>\n",
       "      <td>1.000000</td>\n",
       "      <td>-0.016476</td>\n",
       "      <td>0.223167</td>\n",
       "      <td>0.013237</td>\n",
       "      <td>-0.022650</td>\n",
       "      <td>0.001279</td>\n",
       "    </tr>\n",
       "    <tr>\n",
       "      <th>Number of Credit Problems</th>\n",
       "      <td>0.001827</td>\n",
       "      <td>-0.072319</td>\n",
       "      <td>-0.018990</td>\n",
       "      <td>-0.058016</td>\n",
       "      <td>0.056293</td>\n",
       "      <td>-0.016476</td>\n",
       "      <td>1.000000</td>\n",
       "      <td>-0.110732</td>\n",
       "      <td>-0.007892</td>\n",
       "      <td>0.770028</td>\n",
       "      <td>0.577567</td>\n",
       "    </tr>\n",
       "    <tr>\n",
       "      <th>Current Credit Balance</th>\n",
       "      <td>0.003477</td>\n",
       "      <td>-0.015830</td>\n",
       "      <td>0.326049</td>\n",
       "      <td>0.482653</td>\n",
       "      <td>0.217782</td>\n",
       "      <td>0.223167</td>\n",
       "      <td>-0.110732</td>\n",
       "      <td>1.000000</td>\n",
       "      <td>0.096300</td>\n",
       "      <td>-0.124522</td>\n",
       "      <td>-0.014144</td>\n",
       "    </tr>\n",
       "    <tr>\n",
       "      <th>Maximum Open Credit</th>\n",
       "      <td>0.004402</td>\n",
       "      <td>0.008545</td>\n",
       "      <td>0.032330</td>\n",
       "      <td>0.020117</td>\n",
       "      <td>0.018892</td>\n",
       "      <td>0.013237</td>\n",
       "      <td>-0.007892</td>\n",
       "      <td>0.096300</td>\n",
       "      <td>1.000000</td>\n",
       "      <td>-0.008754</td>\n",
       "      <td>-0.001082</td>\n",
       "    </tr>\n",
       "    <tr>\n",
       "      <th>Bankruptcies</th>\n",
       "      <td>0.002967</td>\n",
       "      <td>-0.062031</td>\n",
       "      <td>-0.046481</td>\n",
       "      <td>-0.076820</td>\n",
       "      <td>0.055226</td>\n",
       "      <td>-0.022650</td>\n",
       "      <td>0.770028</td>\n",
       "      <td>-0.124522</td>\n",
       "      <td>-0.008754</td>\n",
       "      <td>1.000000</td>\n",
       "      <td>0.057210</td>\n",
       "    </tr>\n",
       "    <tr>\n",
       "      <th>Tax Liens</th>\n",
       "      <td>-0.001052</td>\n",
       "      <td>-0.026287</td>\n",
       "      <td>0.032791</td>\n",
       "      <td>0.009742</td>\n",
       "      <td>0.021071</td>\n",
       "      <td>0.001279</td>\n",
       "      <td>0.577567</td>\n",
       "      <td>-0.014144</td>\n",
       "      <td>-0.001082</td>\n",
       "      <td>0.057210</td>\n",
       "      <td>1.000000</td>\n",
       "    </tr>\n",
       "  </tbody>\n",
       "</table>\n",
       "</div>"
      ],
      "text/plain": [
       "                                       Current Loan Amount  Credit Score  \\\n",
       "Loan Status                                                                \n",
       "Charged Off Current Loan Amount                   1.000000     -0.017833   \n",
       "            Credit Score                         -0.017833      1.000000   \n",
       "            Annual Income                         0.285984     -0.004589   \n",
       "            Monthly Debt                          0.443926     -0.003856   \n",
       "            Years of Credit History               0.179413      0.005481   \n",
       "            Number of Open Accounts               0.197779     -0.001508   \n",
       "            Number of Credit Problems            -0.046876     -0.004957   \n",
       "            Current Credit Balance                0.308656     -0.001037   \n",
       "            Maximum Open Credit                   0.055756      0.008669   \n",
       "            Bankruptcies                         -0.074681     -0.002059   \n",
       "            Tax Liens                             0.024747     -0.002481   \n",
       "Fully Paid  Current Loan Amount                   1.000000     -0.003941   \n",
       "            Credit Score                         -0.003941      1.000000   \n",
       "            Annual Income                         0.003046      0.011766   \n",
       "            Monthly Debt                          0.005926     -0.077647   \n",
       "            Years of Credit History               0.007455      0.078924   \n",
       "            Number of Open Accounts               0.005157     -0.031103   \n",
       "            Number of Credit Problems             0.001827     -0.072319   \n",
       "            Current Credit Balance                0.003477     -0.015830   \n",
       "            Maximum Open Credit                   0.004402      0.008545   \n",
       "            Bankruptcies                          0.002967     -0.062031   \n",
       "            Tax Liens                            -0.001052     -0.026287   \n",
       "\n",
       "                                       Annual Income  Monthly Debt  \\\n",
       "Loan Status                                                          \n",
       "Charged Off Current Loan Amount             0.285984      0.443926   \n",
       "            Credit Score                   -0.004589     -0.003856   \n",
       "            Annual Income                   1.000000      0.384892   \n",
       "            Monthly Debt                    0.384892      1.000000   \n",
       "            Years of Credit History         0.123963      0.200556   \n",
       "            Number of Open Accounts         0.115852      0.393215   \n",
       "            Number of Credit Problems       0.016894     -0.021613   \n",
       "            Current Credit Balance          0.216905      0.466948   \n",
       "            Maximum Open Credit             0.034485      0.059971   \n",
       "            Bankruptcies                   -0.023078     -0.056972   \n",
       "            Tax Liens                       0.055753      0.042572   \n",
       "Fully Paid  Current Loan Amount             0.003046      0.005926   \n",
       "            Credit Score                    0.011766     -0.077647   \n",
       "            Annual Income                   1.000000      0.486067   \n",
       "            Monthly Debt                    0.486067      1.000000   \n",
       "            Years of Credit History         0.184056      0.216776   \n",
       "            Number of Open Accounts         0.146410      0.412230   \n",
       "            Number of Credit Problems      -0.018990     -0.058016   \n",
       "            Current Credit Balance          0.326049      0.482653   \n",
       "            Maximum Open Credit             0.032330      0.020117   \n",
       "            Bankruptcies                   -0.046481     -0.076820   \n",
       "            Tax Liens                       0.032791      0.009742   \n",
       "\n",
       "                                       Years of Credit History  \\\n",
       "Loan Status                                                      \n",
       "Charged Off Current Loan Amount                       0.179413   \n",
       "            Credit Score                              0.005481   \n",
       "            Annual Income                             0.123963   \n",
       "            Monthly Debt                              0.200556   \n",
       "            Years of Credit History                   1.000000   \n",
       "            Number of Open Accounts                   0.140542   \n",
       "            Number of Credit Problems                 0.065701   \n",
       "            Current Credit Balance                    0.218447   \n",
       "            Maximum Open Credit                       0.046973   \n",
       "            Bankruptcies                              0.063595   \n",
       "            Tax Liens                                 0.025491   \n",
       "Fully Paid  Current Loan Amount                       0.007455   \n",
       "            Credit Score                              0.078924   \n",
       "            Annual Income                             0.184056   \n",
       "            Monthly Debt                              0.216776   \n",
       "            Years of Credit History                   1.000000   \n",
       "            Number of Open Accounts                   0.138866   \n",
       "            Number of Credit Problems                 0.056293   \n",
       "            Current Credit Balance                    0.217782   \n",
       "            Maximum Open Credit                       0.018892   \n",
       "            Bankruptcies                              0.055226   \n",
       "            Tax Liens                                 0.021071   \n",
       "\n",
       "                                       Number of Open Accounts  \\\n",
       "Loan Status                                                      \n",
       "Charged Off Current Loan Amount                       0.197779   \n",
       "            Credit Score                             -0.001508   \n",
       "            Annual Income                             0.115852   \n",
       "            Monthly Debt                              0.393215   \n",
       "            Years of Credit History                   0.140542   \n",
       "            Number of Open Accounts                   1.000000   \n",
       "            Number of Credit Problems                -0.001513   \n",
       "            Current Credit Balance                    0.237852   \n",
       "            Maximum Open Credit                       0.054112   \n",
       "            Bankruptcies                             -0.007473   \n",
       "            Tax Liens                                 0.004794   \n",
       "Fully Paid  Current Loan Amount                       0.005157   \n",
       "            Credit Score                             -0.031103   \n",
       "            Annual Income                             0.146410   \n",
       "            Monthly Debt                              0.412230   \n",
       "            Years of Credit History                   0.138866   \n",
       "            Number of Open Accounts                   1.000000   \n",
       "            Number of Credit Problems                -0.016476   \n",
       "            Current Credit Balance                    0.223167   \n",
       "            Maximum Open Credit                       0.013237   \n",
       "            Bankruptcies                             -0.022650   \n",
       "            Tax Liens                                 0.001279   \n",
       "\n",
       "                                       Number of Credit Problems  \\\n",
       "Loan Status                                                        \n",
       "Charged Off Current Loan Amount                        -0.046876   \n",
       "            Credit Score                               -0.004957   \n",
       "            Annual Income                               0.016894   \n",
       "            Monthly Debt                               -0.021613   \n",
       "            Years of Credit History                     0.065701   \n",
       "            Number of Open Accounts                    -0.001513   \n",
       "            Number of Credit Problems                   1.000000   \n",
       "            Current Credit Balance                     -0.092188   \n",
       "            Maximum Open Credit                        -0.017295   \n",
       "            Bankruptcies                                0.720201   \n",
       "            Tax Liens                                   0.612170   \n",
       "Fully Paid  Current Loan Amount                         0.001827   \n",
       "            Credit Score                               -0.072319   \n",
       "            Annual Income                              -0.018990   \n",
       "            Monthly Debt                               -0.058016   \n",
       "            Years of Credit History                     0.056293   \n",
       "            Number of Open Accounts                    -0.016476   \n",
       "            Number of Credit Problems                   1.000000   \n",
       "            Current Credit Balance                     -0.110732   \n",
       "            Maximum Open Credit                        -0.007892   \n",
       "            Bankruptcies                                0.770028   \n",
       "            Tax Liens                                   0.577567   \n",
       "\n",
       "                                       Current Credit Balance  \\\n",
       "Loan Status                                                     \n",
       "Charged Off Current Loan Amount                      0.308656   \n",
       "            Credit Score                            -0.001037   \n",
       "            Annual Income                            0.216905   \n",
       "            Monthly Debt                             0.466948   \n",
       "            Years of Credit History                  0.218447   \n",
       "            Number of Open Accounts                  0.237852   \n",
       "            Number of Credit Problems               -0.092188   \n",
       "            Current Credit Balance                   1.000000   \n",
       "            Maximum Open Credit                      0.205812   \n",
       "            Bankruptcies                            -0.107282   \n",
       "            Tax Liens                               -0.007531   \n",
       "Fully Paid  Current Loan Amount                      0.003477   \n",
       "            Credit Score                            -0.015830   \n",
       "            Annual Income                            0.326049   \n",
       "            Monthly Debt                             0.482653   \n",
       "            Years of Credit History                  0.217782   \n",
       "            Number of Open Accounts                  0.223167   \n",
       "            Number of Credit Problems               -0.110732   \n",
       "            Current Credit Balance                   1.000000   \n",
       "            Maximum Open Credit                      0.096300   \n",
       "            Bankruptcies                            -0.124522   \n",
       "            Tax Liens                               -0.014144   \n",
       "\n",
       "                                       Maximum Open Credit  Bankruptcies  \\\n",
       "Loan Status                                                                \n",
       "Charged Off Current Loan Amount                   0.055756     -0.074681   \n",
       "            Credit Score                          0.008669     -0.002059   \n",
       "            Annual Income                         0.034485     -0.023078   \n",
       "            Monthly Debt                          0.059971     -0.056972   \n",
       "            Years of Credit History               0.046973      0.063595   \n",
       "            Number of Open Accounts               0.054112     -0.007473   \n",
       "            Number of Credit Problems            -0.017295      0.720201   \n",
       "            Current Credit Balance                0.205812     -0.107282   \n",
       "            Maximum Open Credit                   1.000000     -0.019902   \n",
       "            Bankruptcies                         -0.019902      1.000000   \n",
       "            Tax Liens                            -0.002216      0.031584   \n",
       "Fully Paid  Current Loan Amount                   0.004402      0.002967   \n",
       "            Credit Score                          0.008545     -0.062031   \n",
       "            Annual Income                         0.032330     -0.046481   \n",
       "            Monthly Debt                          0.020117     -0.076820   \n",
       "            Years of Credit History               0.018892      0.055226   \n",
       "            Number of Open Accounts               0.013237     -0.022650   \n",
       "            Number of Credit Problems            -0.007892      0.770028   \n",
       "            Current Credit Balance                0.096300     -0.124522   \n",
       "            Maximum Open Credit                   1.000000     -0.008754   \n",
       "            Bankruptcies                         -0.008754      1.000000   \n",
       "            Tax Liens                            -0.001082      0.057210   \n",
       "\n",
       "                                       Tax Liens  \n",
       "Loan Status                                       \n",
       "Charged Off Current Loan Amount         0.024747  \n",
       "            Credit Score               -0.002481  \n",
       "            Annual Income               0.055753  \n",
       "            Monthly Debt                0.042572  \n",
       "            Years of Credit History     0.025491  \n",
       "            Number of Open Accounts     0.004794  \n",
       "            Number of Credit Problems   0.612170  \n",
       "            Current Credit Balance     -0.007531  \n",
       "            Maximum Open Credit        -0.002216  \n",
       "            Bankruptcies                0.031584  \n",
       "            Tax Liens                   1.000000  \n",
       "Fully Paid  Current Loan Amount        -0.001052  \n",
       "            Credit Score               -0.026287  \n",
       "            Annual Income               0.032791  \n",
       "            Monthly Debt                0.009742  \n",
       "            Years of Credit History     0.021071  \n",
       "            Number of Open Accounts     0.001279  \n",
       "            Number of Credit Problems   0.577567  \n",
       "            Current Credit Balance     -0.014144  \n",
       "            Maximum Open Credit        -0.001082  \n",
       "            Bankruptcies                0.057210  \n",
       "            Tax Liens                   1.000000  "
      ]
     },
     "execution_count": 147,
     "metadata": {},
     "output_type": "execute_result"
    }
   ],
   "source": [
    "df.groupby(['Loan Status']).corr()"
   ]
  },
  {
   "cell_type": "code",
   "execution_count": 148,
   "id": "f7bd0190",
   "metadata": {},
   "outputs": [
    {
     "data": {
      "text/plain": [
       "Loan Status  Bankruptcies\n",
       "Charged Off  0.0              51828\n",
       "             1.0               5469\n",
       "             2.0                181\n",
       "             3.0                 36\n",
       "             4.0                  9\n",
       "             5.0                  2\n",
       "Fully Paid   0.0             115503\n",
       "             1.0              12467\n",
       "             2.0                485\n",
       "             3.0                 96\n",
       "             4.0                 13\n",
       "             5.0                  8\n",
       "             6.0                  1\n",
       "             7.0                  1\n",
       "Name: Bankruptcies, dtype: int64"
      ]
     },
     "execution_count": 148,
     "metadata": {},
     "output_type": "execute_result"
    }
   ],
   "source": [
    "df.groupby(['Loan Status'])['Bankruptcies'].value_counts()"
   ]
  },
  {
   "cell_type": "code",
   "execution_count": 149,
   "id": "f275517f",
   "metadata": {},
   "outputs": [
    {
     "data": {
      "text/plain": [
       "33764"
      ]
     },
     "execution_count": 149,
     "metadata": {},
     "output_type": "execute_result"
    }
   ],
   "source": [
    "len(df[df['Current Loan Amount'] == 99999999])\n"
   ]
  },
  {
   "cell_type": "code",
   "execution_count": 150,
   "id": "fee3dc02",
   "metadata": {},
   "outputs": [
    {
     "data": {
      "text/html": [
       "<div>\n",
       "<style scoped>\n",
       "    .dataframe tbody tr th:only-of-type {\n",
       "        vertical-align: middle;\n",
       "    }\n",
       "\n",
       "    .dataframe tbody tr th {\n",
       "        vertical-align: top;\n",
       "    }\n",
       "\n",
       "    .dataframe thead th {\n",
       "        text-align: right;\n",
       "    }\n",
       "</style>\n",
       "<table border=\"1\" class=\"dataframe\">\n",
       "  <thead>\n",
       "    <tr style=\"text-align: right;\">\n",
       "      <th></th>\n",
       "      <th>Loan Status</th>\n",
       "      <th>Current Loan Amount</th>\n",
       "      <th>Term</th>\n",
       "      <th>Credit Score</th>\n",
       "      <th>Years in current job</th>\n",
       "      <th>Home Ownership</th>\n",
       "      <th>Annual Income</th>\n",
       "      <th>Purpose</th>\n",
       "      <th>Monthly Debt</th>\n",
       "      <th>Years of Credit History</th>\n",
       "      <th>Number of Open Accounts</th>\n",
       "      <th>Number of Credit Problems</th>\n",
       "      <th>Current Credit Balance</th>\n",
       "      <th>Maximum Open Credit</th>\n",
       "      <th>Bankruptcies</th>\n",
       "      <th>Tax Liens</th>\n",
       "    </tr>\n",
       "  </thead>\n",
       "  <tbody>\n",
       "  </tbody>\n",
       "</table>\n",
       "</div>"
      ],
      "text/plain": [
       "Empty DataFrame\n",
       "Columns: [Loan Status, Current Loan Amount, Term, Credit Score, Years in current job, Home Ownership, Annual Income, Purpose, Monthly Debt, Years of Credit History, Number of Open Accounts, Number of Credit Problems, Current Credit Balance, Maximum Open Credit, Bankruptcies, Tax Liens]\n",
       "Index: []"
      ]
     },
     "execution_count": 150,
     "metadata": {},
     "output_type": "execute_result"
    }
   ],
   "source": [
    "df[(df[\"Loan Status\"]!= 'Fully Paid') &( df['Current Loan Amount'] == 99999999) ] # yani fully paid yazanlar mevcut borç kısmının hepsini ödemişler"
   ]
  },
  {
   "cell_type": "code",
   "execution_count": 151,
   "id": "1c3f67a8",
   "metadata": {},
   "outputs": [],
   "source": [
    "#df[df['Current Loan Amount'] == 99999999]\n",
    "#df['Current Loan Amount']=df['Current Loan Amount'].replace(99999999,df['Maximum Open Credit'])\n",
    "df['Current Loan Amount']=df['Current Loan Amount'].replace(99999999,df['Maximum Open Credit'].apply)"
   ]
  },
  {
   "cell_type": "code",
   "execution_count": 152,
   "id": "56e11da4",
   "metadata": {},
   "outputs": [
    {
     "data": {
      "text/html": [
       "<div>\n",
       "<style scoped>\n",
       "    .dataframe tbody tr th:only-of-type {\n",
       "        vertical-align: middle;\n",
       "    }\n",
       "\n",
       "    .dataframe tbody tr th {\n",
       "        vertical-align: top;\n",
       "    }\n",
       "\n",
       "    .dataframe thead th {\n",
       "        text-align: right;\n",
       "    }\n",
       "</style>\n",
       "<table border=\"1\" class=\"dataframe\">\n",
       "  <thead>\n",
       "    <tr style=\"text-align: right;\">\n",
       "      <th></th>\n",
       "      <th>Loan Status</th>\n",
       "      <th>Current Loan Amount</th>\n",
       "      <th>Term</th>\n",
       "      <th>Credit Score</th>\n",
       "      <th>Years in current job</th>\n",
       "      <th>Home Ownership</th>\n",
       "      <th>Annual Income</th>\n",
       "      <th>Purpose</th>\n",
       "      <th>Monthly Debt</th>\n",
       "      <th>Years of Credit History</th>\n",
       "      <th>Number of Open Accounts</th>\n",
       "      <th>Number of Credit Problems</th>\n",
       "      <th>Current Credit Balance</th>\n",
       "      <th>Maximum Open Credit</th>\n",
       "      <th>Bankruptcies</th>\n",
       "      <th>Tax Liens</th>\n",
       "    </tr>\n",
       "  </thead>\n",
       "  <tbody>\n",
       "  </tbody>\n",
       "</table>\n",
       "</div>"
      ],
      "text/plain": [
       "Empty DataFrame\n",
       "Columns: [Loan Status, Current Loan Amount, Term, Credit Score, Years in current job, Home Ownership, Annual Income, Purpose, Monthly Debt, Years of Credit History, Number of Open Accounts, Number of Credit Problems, Current Credit Balance, Maximum Open Credit, Bankruptcies, Tax Liens]\n",
       "Index: []"
      ]
     },
     "execution_count": 152,
     "metadata": {},
     "output_type": "execute_result"
    }
   ],
   "source": [
    "df[df['Current Loan Amount'] == 99999999]"
   ]
  },
  {
   "cell_type": "code",
   "execution_count": 153,
   "id": "b1d35426",
   "metadata": {},
   "outputs": [],
   "source": [
    "df[\"Current Loan Amount\"] = pd.to_numeric(df[\"Current Loan Amount\"], errors='coerce').fillna(0, downcast='infer')"
   ]
  },
  {
   "cell_type": "code",
   "execution_count": 154,
   "id": "c6f42db7",
   "metadata": {},
   "outputs": [
    {
     "data": {
      "text/html": [
       "<div>\n",
       "<style scoped>\n",
       "    .dataframe tbody tr th:only-of-type {\n",
       "        vertical-align: middle;\n",
       "    }\n",
       "\n",
       "    .dataframe tbody tr th {\n",
       "        vertical-align: top;\n",
       "    }\n",
       "\n",
       "    .dataframe thead th {\n",
       "        text-align: right;\n",
       "    }\n",
       "</style>\n",
       "<table border=\"1\" class=\"dataframe\">\n",
       "  <thead>\n",
       "    <tr style=\"text-align: right;\">\n",
       "      <th></th>\n",
       "      <th>Loan Status</th>\n",
       "      <th>Term</th>\n",
       "      <th>Years in current job</th>\n",
       "      <th>Home Ownership</th>\n",
       "      <th>Purpose</th>\n",
       "    </tr>\n",
       "  </thead>\n",
       "  <tbody>\n",
       "    <tr>\n",
       "      <th>0</th>\n",
       "      <td>Fully Paid</td>\n",
       "      <td>Short Term</td>\n",
       "      <td>10+ years</td>\n",
       "      <td>Home Mortgage</td>\n",
       "      <td>Debt Consolidation</td>\n",
       "    </tr>\n",
       "    <tr>\n",
       "      <th>1</th>\n",
       "      <td>Fully Paid</td>\n",
       "      <td>Short Term</td>\n",
       "      <td>4 years</td>\n",
       "      <td>Home Mortgage</td>\n",
       "      <td>other</td>\n",
       "    </tr>\n",
       "    <tr>\n",
       "      <th>2</th>\n",
       "      <td>Fully Paid</td>\n",
       "      <td>Short Term</td>\n",
       "      <td>10+ years</td>\n",
       "      <td>Home Mortgage</td>\n",
       "      <td>Debt Consolidation</td>\n",
       "    </tr>\n",
       "    <tr>\n",
       "      <th>3</th>\n",
       "      <td>Fully Paid</td>\n",
       "      <td>Short Term</td>\n",
       "      <td>10+ years</td>\n",
       "      <td>Own Home</td>\n",
       "      <td>Debt Consolidation</td>\n",
       "    </tr>\n",
       "    <tr>\n",
       "      <th>4</th>\n",
       "      <td>Fully Paid</td>\n",
       "      <td>Short Term</td>\n",
       "      <td>4 years</td>\n",
       "      <td>Rent</td>\n",
       "      <td>Debt Consolidation</td>\n",
       "    </tr>\n",
       "    <tr>\n",
       "      <th>...</th>\n",
       "      <td>...</td>\n",
       "      <td>...</td>\n",
       "      <td>...</td>\n",
       "      <td>...</td>\n",
       "      <td>...</td>\n",
       "    </tr>\n",
       "    <tr>\n",
       "      <th>256978</th>\n",
       "      <td>Charged Off</td>\n",
       "      <td>Short Term</td>\n",
       "      <td>10+ years</td>\n",
       "      <td>Home Mortgage</td>\n",
       "      <td>Debt Consolidation</td>\n",
       "    </tr>\n",
       "    <tr>\n",
       "      <th>256980</th>\n",
       "      <td>Fully Paid</td>\n",
       "      <td>Short Term</td>\n",
       "      <td>10+ years</td>\n",
       "      <td>Own Home</td>\n",
       "      <td>Debt Consolidation</td>\n",
       "    </tr>\n",
       "    <tr>\n",
       "      <th>256981</th>\n",
       "      <td>Charged Off</td>\n",
       "      <td>Short Term</td>\n",
       "      <td>9 years</td>\n",
       "      <td>Home Mortgage</td>\n",
       "      <td>Debt Consolidation</td>\n",
       "    </tr>\n",
       "    <tr>\n",
       "      <th>256982</th>\n",
       "      <td>Charged Off</td>\n",
       "      <td>Short Term</td>\n",
       "      <td>9 years</td>\n",
       "      <td>Home Mortgage</td>\n",
       "      <td>Debt Consolidation</td>\n",
       "    </tr>\n",
       "    <tr>\n",
       "      <th>256983</th>\n",
       "      <td>Fully Paid</td>\n",
       "      <td>Long Term</td>\n",
       "      <td>10+ years</td>\n",
       "      <td>Home Mortgage</td>\n",
       "      <td>Debt Consolidation</td>\n",
       "    </tr>\n",
       "  </tbody>\n",
       "</table>\n",
       "<p>186099 rows × 5 columns</p>\n",
       "</div>"
      ],
      "text/plain": [
       "        Loan Status        Term Years in current job Home Ownership  \\\n",
       "0        Fully Paid  Short Term            10+ years  Home Mortgage   \n",
       "1        Fully Paid  Short Term              4 years  Home Mortgage   \n",
       "2        Fully Paid  Short Term            10+ years  Home Mortgage   \n",
       "3        Fully Paid  Short Term            10+ years       Own Home   \n",
       "4        Fully Paid  Short Term              4 years           Rent   \n",
       "...             ...         ...                  ...            ...   \n",
       "256978  Charged Off  Short Term            10+ years  Home Mortgage   \n",
       "256980   Fully Paid  Short Term            10+ years       Own Home   \n",
       "256981  Charged Off  Short Term              9 years  Home Mortgage   \n",
       "256982  Charged Off  Short Term              9 years  Home Mortgage   \n",
       "256983   Fully Paid   Long Term            10+ years  Home Mortgage   \n",
       "\n",
       "                   Purpose  \n",
       "0       Debt Consolidation  \n",
       "1                    other  \n",
       "2       Debt Consolidation  \n",
       "3       Debt Consolidation  \n",
       "4       Debt Consolidation  \n",
       "...                    ...  \n",
       "256978  Debt Consolidation  \n",
       "256980  Debt Consolidation  \n",
       "256981  Debt Consolidation  \n",
       "256982  Debt Consolidation  \n",
       "256983  Debt Consolidation  \n",
       "\n",
       "[186099 rows x 5 columns]"
      ]
     },
     "execution_count": 154,
     "metadata": {},
     "output_type": "execute_result"
    }
   ],
   "source": [
    "df.select_dtypes(\"object\")"
   ]
  },
  {
   "cell_type": "code",
   "execution_count": 155,
   "id": "29aaf170",
   "metadata": {},
   "outputs": [
    {
     "data": {
      "text/plain": [
       "Loan Status                       2\n",
       "Current Loan Amount           25538\n",
       "Term                              2\n",
       "Credit Score                    334\n",
       "Years in current job             11\n",
       "Home Ownership                    4\n",
       "Annual Income                 58413\n",
       "Purpose                          10\n",
       "Monthly Debt                 109083\n",
       "Years of Credit History         519\n",
       "Number of Open Accounts          58\n",
       "Number of Credit Problems        11\n",
       "Current Credit Balance        42077\n",
       "Maximum Open Credit           61892\n",
       "Bankruptcies                      8\n",
       "Tax Liens                        11\n",
       "dtype: int64"
      ]
     },
     "execution_count": 155,
     "metadata": {},
     "output_type": "execute_result"
    }
   ],
   "source": [
    "df.nunique()"
   ]
  },
  {
   "cell_type": "code",
   "execution_count": 156,
   "id": "e562b586",
   "metadata": {},
   "outputs": [
    {
     "data": {
      "text/html": [
       "<div>\n",
       "<style scoped>\n",
       "    .dataframe tbody tr th:only-of-type {\n",
       "        vertical-align: middle;\n",
       "    }\n",
       "\n",
       "    .dataframe tbody tr th {\n",
       "        vertical-align: top;\n",
       "    }\n",
       "\n",
       "    .dataframe thead th {\n",
       "        text-align: right;\n",
       "    }\n",
       "</style>\n",
       "<table border=\"1\" class=\"dataframe\">\n",
       "  <thead>\n",
       "    <tr style=\"text-align: right;\">\n",
       "      <th></th>\n",
       "      <th>Loan Status</th>\n",
       "      <th>Current Loan Amount</th>\n",
       "      <th>Term</th>\n",
       "      <th>Credit Score</th>\n",
       "      <th>Years in current job</th>\n",
       "      <th>Home Ownership</th>\n",
       "      <th>Annual Income</th>\n",
       "      <th>Purpose</th>\n",
       "      <th>Monthly Debt</th>\n",
       "      <th>Years of Credit History</th>\n",
       "      <th>Number of Open Accounts</th>\n",
       "      <th>Number of Credit Problems</th>\n",
       "      <th>Current Credit Balance</th>\n",
       "      <th>Maximum Open Credit</th>\n",
       "      <th>Bankruptcies</th>\n",
       "      <th>Tax Liens</th>\n",
       "    </tr>\n",
       "  </thead>\n",
       "  <tbody>\n",
       "    <tr>\n",
       "      <th>0</th>\n",
       "      <td>Fully Paid</td>\n",
       "      <td>11520</td>\n",
       "      <td>Short Term</td>\n",
       "      <td>741.0</td>\n",
       "      <td>10+ years</td>\n",
       "      <td>Home Mortgage</td>\n",
       "      <td>33694.0</td>\n",
       "      <td>Debt Consolidation</td>\n",
       "      <td>584.03</td>\n",
       "      <td>12.3</td>\n",
       "      <td>10</td>\n",
       "      <td>0</td>\n",
       "      <td>6760</td>\n",
       "      <td>16056</td>\n",
       "      <td>0.0</td>\n",
       "      <td>0.0</td>\n",
       "    </tr>\n",
       "    <tr>\n",
       "      <th>1</th>\n",
       "      <td>Fully Paid</td>\n",
       "      <td>3441</td>\n",
       "      <td>Short Term</td>\n",
       "      <td>734.0</td>\n",
       "      <td>4 years</td>\n",
       "      <td>Home Mortgage</td>\n",
       "      <td>42269.0</td>\n",
       "      <td>other</td>\n",
       "      <td>1106.04</td>\n",
       "      <td>26.3</td>\n",
       "      <td>17</td>\n",
       "      <td>0</td>\n",
       "      <td>6262</td>\n",
       "      <td>19149</td>\n",
       "      <td>0.0</td>\n",
       "      <td>0.0</td>\n",
       "    </tr>\n",
       "    <tr>\n",
       "      <th>2</th>\n",
       "      <td>Fully Paid</td>\n",
       "      <td>21029</td>\n",
       "      <td>Short Term</td>\n",
       "      <td>747.0</td>\n",
       "      <td>10+ years</td>\n",
       "      <td>Home Mortgage</td>\n",
       "      <td>90126.0</td>\n",
       "      <td>Debt Consolidation</td>\n",
       "      <td>1321.85</td>\n",
       "      <td>28.8</td>\n",
       "      <td>5</td>\n",
       "      <td>0</td>\n",
       "      <td>20967</td>\n",
       "      <td>28335</td>\n",
       "      <td>0.0</td>\n",
       "      <td>0.0</td>\n",
       "    </tr>\n",
       "    <tr>\n",
       "      <th>3</th>\n",
       "      <td>Fully Paid</td>\n",
       "      <td>18743</td>\n",
       "      <td>Short Term</td>\n",
       "      <td>747.0</td>\n",
       "      <td>10+ years</td>\n",
       "      <td>Own Home</td>\n",
       "      <td>38072.0</td>\n",
       "      <td>Debt Consolidation</td>\n",
       "      <td>751.92</td>\n",
       "      <td>26.2</td>\n",
       "      <td>9</td>\n",
       "      <td>0</td>\n",
       "      <td>22529</td>\n",
       "      <td>43915</td>\n",
       "      <td>0.0</td>\n",
       "      <td>0.0</td>\n",
       "    </tr>\n",
       "    <tr>\n",
       "      <th>4</th>\n",
       "      <td>Fully Paid</td>\n",
       "      <td>11731</td>\n",
       "      <td>Short Term</td>\n",
       "      <td>746.0</td>\n",
       "      <td>4 years</td>\n",
       "      <td>Rent</td>\n",
       "      <td>50025.0</td>\n",
       "      <td>Debt Consolidation</td>\n",
       "      <td>355.18</td>\n",
       "      <td>11.5</td>\n",
       "      <td>12</td>\n",
       "      <td>0</td>\n",
       "      <td>17391</td>\n",
       "      <td>37081</td>\n",
       "      <td>0.0</td>\n",
       "      <td>0.0</td>\n",
       "    </tr>\n",
       "    <tr>\n",
       "      <th>...</th>\n",
       "      <td>...</td>\n",
       "      <td>...</td>\n",
       "      <td>...</td>\n",
       "      <td>...</td>\n",
       "      <td>...</td>\n",
       "      <td>...</td>\n",
       "      <td>...</td>\n",
       "      <td>...</td>\n",
       "      <td>...</td>\n",
       "      <td>...</td>\n",
       "      <td>...</td>\n",
       "      <td>...</td>\n",
       "      <td>...</td>\n",
       "      <td>...</td>\n",
       "      <td>...</td>\n",
       "      <td>...</td>\n",
       "    </tr>\n",
       "    <tr>\n",
       "      <th>256978</th>\n",
       "      <td>Charged Off</td>\n",
       "      <td>11953</td>\n",
       "      <td>Short Term</td>\n",
       "      <td>717.0</td>\n",
       "      <td>10+ years</td>\n",
       "      <td>Home Mortgage</td>\n",
       "      <td>39844.0</td>\n",
       "      <td>Debt Consolidation</td>\n",
       "      <td>982.82</td>\n",
       "      <td>11.7</td>\n",
       "      <td>9</td>\n",
       "      <td>1</td>\n",
       "      <td>4176</td>\n",
       "      <td>4783</td>\n",
       "      <td>1.0</td>\n",
       "      <td>0.0</td>\n",
       "    </tr>\n",
       "    <tr>\n",
       "      <th>256980</th>\n",
       "      <td>Fully Paid</td>\n",
       "      <td>5078</td>\n",
       "      <td>Short Term</td>\n",
       "      <td>737.0</td>\n",
       "      <td>10+ years</td>\n",
       "      <td>Own Home</td>\n",
       "      <td>77186.0</td>\n",
       "      <td>Debt Consolidation</td>\n",
       "      <td>1376.47</td>\n",
       "      <td>19.1</td>\n",
       "      <td>9</td>\n",
       "      <td>0</td>\n",
       "      <td>1717</td>\n",
       "      <td>9758</td>\n",
       "      <td>0.0</td>\n",
       "      <td>0.0</td>\n",
       "    </tr>\n",
       "    <tr>\n",
       "      <th>256981</th>\n",
       "      <td>Charged Off</td>\n",
       "      <td>12116</td>\n",
       "      <td>Short Term</td>\n",
       "      <td>7460.0</td>\n",
       "      <td>9 years</td>\n",
       "      <td>Home Mortgage</td>\n",
       "      <td>52504.0</td>\n",
       "      <td>Debt Consolidation</td>\n",
       "      <td>297.96</td>\n",
       "      <td>15.1</td>\n",
       "      <td>8</td>\n",
       "      <td>0</td>\n",
       "      <td>3315</td>\n",
       "      <td>20090</td>\n",
       "      <td>0.0</td>\n",
       "      <td>0.0</td>\n",
       "    </tr>\n",
       "    <tr>\n",
       "      <th>256982</th>\n",
       "      <td>Charged Off</td>\n",
       "      <td>12116</td>\n",
       "      <td>Short Term</td>\n",
       "      <td>746.0</td>\n",
       "      <td>9 years</td>\n",
       "      <td>Home Mortgage</td>\n",
       "      <td>52504.0</td>\n",
       "      <td>Debt Consolidation</td>\n",
       "      <td>297.96</td>\n",
       "      <td>15.1</td>\n",
       "      <td>8</td>\n",
       "      <td>0</td>\n",
       "      <td>3315</td>\n",
       "      <td>20090</td>\n",
       "      <td>0.0</td>\n",
       "      <td>0.0</td>\n",
       "    </tr>\n",
       "    <tr>\n",
       "      <th>256983</th>\n",
       "      <td>Fully Paid</td>\n",
       "      <td>27902</td>\n",
       "      <td>Long Term</td>\n",
       "      <td>678.0</td>\n",
       "      <td>10+ years</td>\n",
       "      <td>Home Mortgage</td>\n",
       "      <td>117480.0</td>\n",
       "      <td>Debt Consolidation</td>\n",
       "      <td>2525.82</td>\n",
       "      <td>18.0</td>\n",
       "      <td>10</td>\n",
       "      <td>0</td>\n",
       "      <td>28317</td>\n",
       "      <td>62371</td>\n",
       "      <td>0.0</td>\n",
       "      <td>0.0</td>\n",
       "    </tr>\n",
       "  </tbody>\n",
       "</table>\n",
       "<p>186099 rows × 16 columns</p>\n",
       "</div>"
      ],
      "text/plain": [
       "        Loan Status  Current Loan Amount        Term  Credit Score  \\\n",
       "0        Fully Paid                11520  Short Term         741.0   \n",
       "1        Fully Paid                 3441  Short Term         734.0   \n",
       "2        Fully Paid                21029  Short Term         747.0   \n",
       "3        Fully Paid                18743  Short Term         747.0   \n",
       "4        Fully Paid                11731  Short Term         746.0   \n",
       "...             ...                  ...         ...           ...   \n",
       "256978  Charged Off                11953  Short Term         717.0   \n",
       "256980   Fully Paid                 5078  Short Term         737.0   \n",
       "256981  Charged Off                12116  Short Term        7460.0   \n",
       "256982  Charged Off                12116  Short Term         746.0   \n",
       "256983   Fully Paid                27902   Long Term         678.0   \n",
       "\n",
       "       Years in current job Home Ownership  Annual Income             Purpose  \\\n",
       "0                 10+ years  Home Mortgage        33694.0  Debt Consolidation   \n",
       "1                   4 years  Home Mortgage        42269.0               other   \n",
       "2                 10+ years  Home Mortgage        90126.0  Debt Consolidation   \n",
       "3                 10+ years       Own Home        38072.0  Debt Consolidation   \n",
       "4                   4 years           Rent        50025.0  Debt Consolidation   \n",
       "...                     ...            ...            ...                 ...   \n",
       "256978            10+ years  Home Mortgage        39844.0  Debt Consolidation   \n",
       "256980            10+ years       Own Home        77186.0  Debt Consolidation   \n",
       "256981              9 years  Home Mortgage        52504.0  Debt Consolidation   \n",
       "256982              9 years  Home Mortgage        52504.0  Debt Consolidation   \n",
       "256983            10+ years  Home Mortgage       117480.0  Debt Consolidation   \n",
       "\n",
       "        Monthly Debt  Years of Credit History  Number of Open Accounts  \\\n",
       "0             584.03                     12.3                       10   \n",
       "1            1106.04                     26.3                       17   \n",
       "2            1321.85                     28.8                        5   \n",
       "3             751.92                     26.2                        9   \n",
       "4             355.18                     11.5                       12   \n",
       "...              ...                      ...                      ...   \n",
       "256978        982.82                     11.7                        9   \n",
       "256980       1376.47                     19.1                        9   \n",
       "256981        297.96                     15.1                        8   \n",
       "256982        297.96                     15.1                        8   \n",
       "256983       2525.82                     18.0                       10   \n",
       "\n",
       "        Number of Credit Problems  Current Credit Balance  \\\n",
       "0                               0                    6760   \n",
       "1                               0                    6262   \n",
       "2                               0                   20967   \n",
       "3                               0                   22529   \n",
       "4                               0                   17391   \n",
       "...                           ...                     ...   \n",
       "256978                          1                    4176   \n",
       "256980                          0                    1717   \n",
       "256981                          0                    3315   \n",
       "256982                          0                    3315   \n",
       "256983                          0                   28317   \n",
       "\n",
       "        Maximum Open Credit  Bankruptcies  Tax Liens  \n",
       "0                     16056           0.0        0.0  \n",
       "1                     19149           0.0        0.0  \n",
       "2                     28335           0.0        0.0  \n",
       "3                     43915           0.0        0.0  \n",
       "4                     37081           0.0        0.0  \n",
       "...                     ...           ...        ...  \n",
       "256978                 4783           1.0        0.0  \n",
       "256980                 9758           0.0        0.0  \n",
       "256981                20090           0.0        0.0  \n",
       "256982                20090           0.0        0.0  \n",
       "256983                62371           0.0        0.0  \n",
       "\n",
       "[186099 rows x 16 columns]"
      ]
     },
     "execution_count": 156,
     "metadata": {},
     "output_type": "execute_result"
    }
   ],
   "source": [
    "df"
   ]
  },
  {
   "cell_type": "code",
   "execution_count": 157,
   "id": "9a9264d4",
   "metadata": {},
   "outputs": [
    {
     "data": {
      "text/plain": [
       "0          584\n",
       "1         1106\n",
       "2         1321\n",
       "3          751\n",
       "4          355\n",
       "          ... \n",
       "256978     982\n",
       "256980    1376\n",
       "256981     297\n",
       "256982     297\n",
       "256983    2525\n",
       "Name: Monthly Debt, Length: 186099, dtype: int32"
      ]
     },
     "execution_count": 157,
     "metadata": {},
     "output_type": "execute_result"
    }
   ],
   "source": [
    "df['Monthly Debt'].astype(int)"
   ]
  },
  {
   "cell_type": "code",
   "execution_count": 173,
   "id": "290a9793",
   "metadata": {},
   "outputs": [
    {
     "data": {
      "text/plain": [
       "Index(['Loan Status', 'Current Loan Amount', 'Term', 'Credit Score',\n",
       "       'Years in current job', 'Home Ownership', 'Annual Income', 'Purpose',\n",
       "       'Monthly Debt', 'Years of Credit History', 'Number of Open Accounts',\n",
       "       'Number of Credit Problems', 'Current Credit Balance',\n",
       "       'Maximum Open Credit', 'Bankruptcies', 'Tax Liens'],\n",
       "      dtype='object')"
      ]
     },
     "execution_count": 173,
     "metadata": {},
     "output_type": "execute_result"
    }
   ],
   "source": [
    "df.columns"
   ]
  },
  {
   "cell_type": "code",
   "execution_count": 193,
   "id": "ea7db8b4",
   "metadata": {},
   "outputs": [],
   "source": [
    "x=df.drop([\"Loan Status\"],axis=1)\n",
    "#x=df[['Annual Income','Monthly Debt','Number of Credit Problems','Bankruptcies','Maximum Open Credit']]\n",
    "y=df[\"Loan Status\"]"
   ]
  },
  {
   "cell_type": "code",
   "execution_count": null,
   "id": "c9a54ae1",
   "metadata": {},
   "outputs": [],
   "source": []
  },
  {
   "cell_type": "markdown",
   "id": "f7e574d2",
   "metadata": {},
   "source": [
    "## GETDUMMIES İLE X DATAFRAME IN ICINDEKİ DEGERLERI SPARSE MATRIX E CEVRILIYOR BU SAYEDE OBEJCT OLAN DEGERLERDE DAHIL EDILIYOR"
   ]
  },
  {
   "cell_type": "code",
   "execution_count": 194,
   "id": "208c0e74",
   "metadata": {},
   "outputs": [],
   "source": [
    "x=pd.get_dummies(x,drop_first=True)"
   ]
  },
  {
   "cell_type": "code",
   "execution_count": 195,
   "id": "1c61bb6c",
   "metadata": {
    "scrolled": true
   },
   "outputs": [
    {
     "data": {
      "text/plain": [
       "((186099, 34),\n",
       " Current Loan Amount               0\n",
       " Credit Score                      0\n",
       " Annual Income                     0\n",
       " Monthly Debt                      0\n",
       " Years of Credit History           0\n",
       " Number of Open Accounts           0\n",
       " Number of Credit Problems         0\n",
       " Current Credit Balance            0\n",
       " Maximum Open Credit               0\n",
       " Bankruptcies                      0\n",
       " Tax Liens                         0\n",
       " Term_Short Term                   0\n",
       " Years in current job_10+ years    0\n",
       " Years in current job_2 years      0\n",
       " Years in current job_3 years      0\n",
       " Years in current job_4 years      0\n",
       " Years in current job_5 years      0\n",
       " Years in current job_6 years      0\n",
       " Years in current job_7 years      0\n",
       " Years in current job_8 years      0\n",
       " Years in current job_9 years      0\n",
       " Years in current job_< 1 year     0\n",
       " Home Ownership_Home Mortgage      0\n",
       " Home Ownership_Own Home           0\n",
       " Home Ownership_Rent               0\n",
       " Purpose_Buy House                 0\n",
       " Purpose_Buy a Car                 0\n",
       " Purpose_Debt Consolidation        0\n",
       " Purpose_Educational Expenses      0\n",
       " Purpose_Home Improvements         0\n",
       " Purpose_Medical Bills             0\n",
       " Purpose_Other                     0\n",
       " Purpose_Take a Trip               0\n",
       " Purpose_other                     0\n",
       " dtype: int64)"
      ]
     },
     "execution_count": 195,
     "metadata": {},
     "output_type": "execute_result"
    }
   ],
   "source": [
    "x.shape,x.isnull().sum()"
   ]
  },
  {
   "cell_type": "code",
   "execution_count": 196,
   "id": "dbc48849",
   "metadata": {},
   "outputs": [
    {
     "name": "stdout",
     "output_type": "stream",
     "text": [
      "<class 'pandas.core.frame.DataFrame'>\n",
      "Int64Index: 186099 entries, 0 to 256983\n",
      "Data columns (total 34 columns):\n",
      " #   Column                          Non-Null Count   Dtype  \n",
      "---  ------                          --------------   -----  \n",
      " 0   Current Loan Amount             186099 non-null  int64  \n",
      " 1   Credit Score                    186099 non-null  float64\n",
      " 2   Annual Income                   186099 non-null  float64\n",
      " 3   Monthly Debt                    186099 non-null  float64\n",
      " 4   Years of Credit History         186099 non-null  float64\n",
      " 5   Number of Open Accounts         186099 non-null  int64  \n",
      " 6   Number of Credit Problems       186099 non-null  int64  \n",
      " 7   Current Credit Balance          186099 non-null  int64  \n",
      " 8   Maximum Open Credit             186099 non-null  int64  \n",
      " 9   Bankruptcies                    186099 non-null  float64\n",
      " 10  Tax Liens                       186099 non-null  float64\n",
      " 11  Term_Short Term                 186099 non-null  uint8  \n",
      " 12  Years in current job_10+ years  186099 non-null  uint8  \n",
      " 13  Years in current job_2 years    186099 non-null  uint8  \n",
      " 14  Years in current job_3 years    186099 non-null  uint8  \n",
      " 15  Years in current job_4 years    186099 non-null  uint8  \n",
      " 16  Years in current job_5 years    186099 non-null  uint8  \n",
      " 17  Years in current job_6 years    186099 non-null  uint8  \n",
      " 18  Years in current job_7 years    186099 non-null  uint8  \n",
      " 19  Years in current job_8 years    186099 non-null  uint8  \n",
      " 20  Years in current job_9 years    186099 non-null  uint8  \n",
      " 21  Years in current job_< 1 year   186099 non-null  uint8  \n",
      " 22  Home Ownership_Home Mortgage    186099 non-null  uint8  \n",
      " 23  Home Ownership_Own Home         186099 non-null  uint8  \n",
      " 24  Home Ownership_Rent             186099 non-null  uint8  \n",
      " 25  Purpose_Buy House               186099 non-null  uint8  \n",
      " 26  Purpose_Buy a Car               186099 non-null  uint8  \n",
      " 27  Purpose_Debt Consolidation      186099 non-null  uint8  \n",
      " 28  Purpose_Educational Expenses    186099 non-null  uint8  \n",
      " 29  Purpose_Home Improvements       186099 non-null  uint8  \n",
      " 30  Purpose_Medical Bills           186099 non-null  uint8  \n",
      " 31  Purpose_Other                   186099 non-null  uint8  \n",
      " 32  Purpose_Take a Trip             186099 non-null  uint8  \n",
      " 33  Purpose_other                   186099 non-null  uint8  \n",
      "dtypes: float64(6), int64(5), uint8(23)\n",
      "memory usage: 21.1 MB\n"
     ]
    }
   ],
   "source": [
    "x.info()"
   ]
  },
  {
   "cell_type": "code",
   "execution_count": 197,
   "id": "e8462fd8",
   "metadata": {},
   "outputs": [
    {
     "data": {
      "text/plain": [
       "0          Fully Paid\n",
       "1          Fully Paid\n",
       "2          Fully Paid\n",
       "3          Fully Paid\n",
       "4          Fully Paid\n",
       "             ...     \n",
       "256978    Charged Off\n",
       "256980     Fully Paid\n",
       "256981    Charged Off\n",
       "256982    Charged Off\n",
       "256983     Fully Paid\n",
       "Name: Loan Status, Length: 186099, dtype: object"
      ]
     },
     "execution_count": 197,
     "metadata": {},
     "output_type": "execute_result"
    }
   ],
   "source": [
    "y"
   ]
  },
  {
   "cell_type": "code",
   "execution_count": 198,
   "id": "87796973",
   "metadata": {},
   "outputs": [],
   "source": [
    "\n",
    "from sklearn.preprocessing import LabelEncoder \n"
   ]
  },
  {
   "cell_type": "markdown",
   "id": "66b5439a",
   "metadata": {},
   "source": [
    "### df[Attrition] ' ın df için 'Yes' 'No' diye yazıyor bunu, 0 ve 1 e çevirmek istiyoruz bununla ilgili 3 yöntem var. \n",
    "1) Dictionary Kullanarak\n",
    "       d={Yes:1,No:0} # bu şu anlama geliyor 'Yes' demek 1 demek 'No' demek 0 demek\n",
    "       d['Attrition']=df['Attrition'].map(d)\n",
    "        \n",
    "2)Replace Yöntemi ile değiştirme\n",
    "df['Attrition']=df['Attrition'].replace(['Yes','No'],[1,0])\n",
    "\n",
    "3) sklearn ile Label Encoder Kullanarak Yapmak\n",
    "\n",
    "from sklearn.preprocessing import LabelEncoder\n",
    "\n",
    "le=LabelEncoder()\n",
    "\n",
    "df['Attrition']=le.fit_transform(df['Attrition'])\n",
    "\n"
   ]
  },
  {
   "cell_type": "code",
   "execution_count": 199,
   "id": "8a051fe4",
   "metadata": {},
   "outputs": [],
   "source": [
    "from sklearn.naive_bayes import GaussianNB\n",
    "from sklearn.naive_bayes import BernoulliNB\n",
    " \n",
    "g=GaussianNB()\n",
    "b=BernoulliNB()\n"
   ]
  },
  {
   "cell_type": "code",
   "execution_count": 200,
   "id": "3c8d1ceb",
   "metadata": {},
   "outputs": [],
   "source": [
    "# DRY = Dont Repeat yourself"
   ]
  },
  {
   "cell_type": "code",
   "execution_count": 201,
   "id": "20e66cc4",
   "metadata": {},
   "outputs": [
    {
     "data": {
      "text/plain": [
       "GaussianNB()"
      ]
     },
     "execution_count": 201,
     "metadata": {},
     "output_type": "execute_result"
    }
   ],
   "source": [
    "g.fit(x,y)"
   ]
  },
  {
   "cell_type": "code",
   "execution_count": 202,
   "id": "a4f9c9c8",
   "metadata": {},
   "outputs": [
    {
     "data": {
      "text/plain": [
       "BernoulliNB()"
      ]
     },
     "execution_count": 202,
     "metadata": {},
     "output_type": "execute_result"
    }
   ],
   "source": [
    "b.fit(x,y)"
   ]
  },
  {
   "cell_type": "markdown",
   "id": "6aa5532a",
   "metadata": {},
   "source": [
    "## BURADA SKLEARN UN ACCURACY_SCORE, PRECISION SCORE,RECALL SCORE, F1 SCORE, CONFUSION MATRIC VE CLASSIFICATION REPORT İLE BAŞARISINI OLCECEK METRIKLERIN CAGRILMASI"
   ]
  },
  {
   "cell_type": "code",
   "execution_count": 203,
   "id": "16b89bd3",
   "metadata": {},
   "outputs": [],
   "source": [
    "from sklearn.metrics import accuracy_score, precision_score,recall_score,f1_score,confusion_matrix,classification_report,ConfusionMatrixDisplay\n",
    "#from sklearn.tests import "
   ]
  },
  {
   "cell_type": "markdown",
   "id": "1b39a482",
   "metadata": {},
   "source": [
    "## g.fit VE b.fit İLE TAHMINLERINI YAPIYOR"
   ]
  },
  {
   "cell_type": "code",
   "execution_count": 204,
   "id": "b990ba3e",
   "metadata": {},
   "outputs": [],
   "source": [
    "tahmin1=g.predict(x)\n",
    "tahmin2=b.predict(x)"
   ]
  },
  {
   "cell_type": "markdown",
   "id": "015251e5",
   "metadata": {},
   "source": [
    "## SKLEARN UN METRIC PAKETINDEN GAUSSIAN VE BERNOULLI MODELLERI İLE EGİTİLEN MODELLERIN ACCURACY SCORE CONFISION MATRIK VS ILE BASARISINI OLCUYOR"
   ]
  },
  {
   "cell_type": "code",
   "execution_count": 205,
   "id": "5d2d94b3",
   "metadata": {},
   "outputs": [
    {
     "data": {
      "text/plain": [
       "0.7734754082504474"
      ]
     },
     "execution_count": 205,
     "metadata": {},
     "output_type": "execute_result"
    }
   ],
   "source": [
    "accuracy_score(tahmin1,y)"
   ]
  },
  {
   "cell_type": "code",
   "execution_count": 206,
   "id": "e28bc2d0",
   "metadata": {},
   "outputs": [
    {
     "data": {
      "text/plain": [
       "0.7081660836436521"
      ]
     },
     "execution_count": 206,
     "metadata": {},
     "output_type": "execute_result"
    }
   ],
   "source": [
    "accuracy_score(tahmin2,y)"
   ]
  },
  {
   "cell_type": "code",
   "execution_count": 207,
   "id": "eb632a97",
   "metadata": {},
   "outputs": [
    {
     "ename": "ValueError",
     "evalue": "pos_label=1 is not a valid label. It should be one of ['Charged Off', 'Fully Paid']",
     "output_type": "error",
     "traceback": [
      "\u001b[1;31m---------------------------------------------------------------------------\u001b[0m",
      "\u001b[1;31mValueError\u001b[0m                                Traceback (most recent call last)",
      "Input \u001b[1;32mIn [207]\u001b[0m, in \u001b[0;36m<cell line: 1>\u001b[1;34m()\u001b[0m\n\u001b[1;32m----> 1\u001b[0m \u001b[43mprecision_score\u001b[49m\u001b[43m(\u001b[49m\u001b[43mtahmin2\u001b[49m\u001b[43m,\u001b[49m\u001b[43my\u001b[49m\u001b[43m)\u001b[49m\n",
      "File \u001b[1;32m~\\Anaconda3\\lib\\site-packages\\sklearn\\metrics\\_classification.py:1757\u001b[0m, in \u001b[0;36mprecision_score\u001b[1;34m(y_true, y_pred, labels, pos_label, average, sample_weight, zero_division)\u001b[0m\n\u001b[0;32m   1628\u001b[0m \u001b[38;5;28;01mdef\u001b[39;00m \u001b[38;5;21mprecision_score\u001b[39m(\n\u001b[0;32m   1629\u001b[0m     y_true,\n\u001b[0;32m   1630\u001b[0m     y_pred,\n\u001b[1;32m   (...)\u001b[0m\n\u001b[0;32m   1636\u001b[0m     zero_division\u001b[38;5;241m=\u001b[39m\u001b[38;5;124m\"\u001b[39m\u001b[38;5;124mwarn\u001b[39m\u001b[38;5;124m\"\u001b[39m,\n\u001b[0;32m   1637\u001b[0m ):\n\u001b[0;32m   1638\u001b[0m     \u001b[38;5;124;03m\"\"\"Compute the precision.\u001b[39;00m\n\u001b[0;32m   1639\u001b[0m \n\u001b[0;32m   1640\u001b[0m \u001b[38;5;124;03m    The precision is the ratio ``tp / (tp + fp)`` where ``tp`` is the number of\u001b[39;00m\n\u001b[1;32m   (...)\u001b[0m\n\u001b[0;32m   1755\u001b[0m \u001b[38;5;124;03m    array([0.5, 1. , 1. ])\u001b[39;00m\n\u001b[0;32m   1756\u001b[0m \u001b[38;5;124;03m    \"\"\"\u001b[39;00m\n\u001b[1;32m-> 1757\u001b[0m     p, _, _, _ \u001b[38;5;241m=\u001b[39m \u001b[43mprecision_recall_fscore_support\u001b[49m\u001b[43m(\u001b[49m\n\u001b[0;32m   1758\u001b[0m \u001b[43m        \u001b[49m\u001b[43my_true\u001b[49m\u001b[43m,\u001b[49m\n\u001b[0;32m   1759\u001b[0m \u001b[43m        \u001b[49m\u001b[43my_pred\u001b[49m\u001b[43m,\u001b[49m\n\u001b[0;32m   1760\u001b[0m \u001b[43m        \u001b[49m\u001b[43mlabels\u001b[49m\u001b[38;5;241;43m=\u001b[39;49m\u001b[43mlabels\u001b[49m\u001b[43m,\u001b[49m\n\u001b[0;32m   1761\u001b[0m \u001b[43m        \u001b[49m\u001b[43mpos_label\u001b[49m\u001b[38;5;241;43m=\u001b[39;49m\u001b[43mpos_label\u001b[49m\u001b[43m,\u001b[49m\n\u001b[0;32m   1762\u001b[0m \u001b[43m        \u001b[49m\u001b[43maverage\u001b[49m\u001b[38;5;241;43m=\u001b[39;49m\u001b[43maverage\u001b[49m\u001b[43m,\u001b[49m\n\u001b[0;32m   1763\u001b[0m \u001b[43m        \u001b[49m\u001b[43mwarn_for\u001b[49m\u001b[38;5;241;43m=\u001b[39;49m\u001b[43m(\u001b[49m\u001b[38;5;124;43m\"\u001b[39;49m\u001b[38;5;124;43mprecision\u001b[39;49m\u001b[38;5;124;43m\"\u001b[39;49m\u001b[43m,\u001b[49m\u001b[43m)\u001b[49m\u001b[43m,\u001b[49m\n\u001b[0;32m   1764\u001b[0m \u001b[43m        \u001b[49m\u001b[43msample_weight\u001b[49m\u001b[38;5;241;43m=\u001b[39;49m\u001b[43msample_weight\u001b[49m\u001b[43m,\u001b[49m\n\u001b[0;32m   1765\u001b[0m \u001b[43m        \u001b[49m\u001b[43mzero_division\u001b[49m\u001b[38;5;241;43m=\u001b[39;49m\u001b[43mzero_division\u001b[49m\u001b[43m,\u001b[49m\n\u001b[0;32m   1766\u001b[0m \u001b[43m    \u001b[49m\u001b[43m)\u001b[49m\n\u001b[0;32m   1767\u001b[0m     \u001b[38;5;28;01mreturn\u001b[39;00m p\n",
      "File \u001b[1;32m~\\Anaconda3\\lib\\site-packages\\sklearn\\metrics\\_classification.py:1544\u001b[0m, in \u001b[0;36mprecision_recall_fscore_support\u001b[1;34m(y_true, y_pred, beta, labels, pos_label, average, warn_for, sample_weight, zero_division)\u001b[0m\n\u001b[0;32m   1542\u001b[0m \u001b[38;5;28;01mif\u001b[39;00m beta \u001b[38;5;241m<\u001b[39m \u001b[38;5;241m0\u001b[39m:\n\u001b[0;32m   1543\u001b[0m     \u001b[38;5;28;01mraise\u001b[39;00m \u001b[38;5;167;01mValueError\u001b[39;00m(\u001b[38;5;124m\"\u001b[39m\u001b[38;5;124mbeta should be >=0 in the F-beta score\u001b[39m\u001b[38;5;124m\"\u001b[39m)\n\u001b[1;32m-> 1544\u001b[0m labels \u001b[38;5;241m=\u001b[39m \u001b[43m_check_set_wise_labels\u001b[49m\u001b[43m(\u001b[49m\u001b[43my_true\u001b[49m\u001b[43m,\u001b[49m\u001b[43m \u001b[49m\u001b[43my_pred\u001b[49m\u001b[43m,\u001b[49m\u001b[43m \u001b[49m\u001b[43maverage\u001b[49m\u001b[43m,\u001b[49m\u001b[43m \u001b[49m\u001b[43mlabels\u001b[49m\u001b[43m,\u001b[49m\u001b[43m \u001b[49m\u001b[43mpos_label\u001b[49m\u001b[43m)\u001b[49m\n\u001b[0;32m   1546\u001b[0m \u001b[38;5;66;03m# Calculate tp_sum, pred_sum, true_sum ###\u001b[39;00m\n\u001b[0;32m   1547\u001b[0m samplewise \u001b[38;5;241m=\u001b[39m average \u001b[38;5;241m==\u001b[39m \u001b[38;5;124m\"\u001b[39m\u001b[38;5;124msamples\u001b[39m\u001b[38;5;124m\"\u001b[39m\n",
      "File \u001b[1;32m~\\Anaconda3\\lib\\site-packages\\sklearn\\metrics\\_classification.py:1356\u001b[0m, in \u001b[0;36m_check_set_wise_labels\u001b[1;34m(y_true, y_pred, average, labels, pos_label)\u001b[0m\n\u001b[0;32m   1354\u001b[0m     \u001b[38;5;28;01mif\u001b[39;00m pos_label \u001b[38;5;129;01mnot\u001b[39;00m \u001b[38;5;129;01min\u001b[39;00m present_labels:\n\u001b[0;32m   1355\u001b[0m         \u001b[38;5;28;01mif\u001b[39;00m \u001b[38;5;28mlen\u001b[39m(present_labels) \u001b[38;5;241m>\u001b[39m\u001b[38;5;241m=\u001b[39m \u001b[38;5;241m2\u001b[39m:\n\u001b[1;32m-> 1356\u001b[0m             \u001b[38;5;28;01mraise\u001b[39;00m \u001b[38;5;167;01mValueError\u001b[39;00m(\n\u001b[0;32m   1357\u001b[0m                 \u001b[38;5;124mf\u001b[39m\u001b[38;5;124m\"\u001b[39m\u001b[38;5;124mpos_label=\u001b[39m\u001b[38;5;132;01m{\u001b[39;00mpos_label\u001b[38;5;132;01m}\u001b[39;00m\u001b[38;5;124m is not a valid label. It \u001b[39m\u001b[38;5;124m\"\u001b[39m\n\u001b[0;32m   1358\u001b[0m                 \u001b[38;5;124mf\u001b[39m\u001b[38;5;124m\"\u001b[39m\u001b[38;5;124mshould be one of \u001b[39m\u001b[38;5;132;01m{\u001b[39;00mpresent_labels\u001b[38;5;132;01m}\u001b[39;00m\u001b[38;5;124m\"\u001b[39m\n\u001b[0;32m   1359\u001b[0m             )\n\u001b[0;32m   1360\u001b[0m     labels \u001b[38;5;241m=\u001b[39m [pos_label]\n\u001b[0;32m   1361\u001b[0m \u001b[38;5;28;01melse\u001b[39;00m:\n",
      "\u001b[1;31mValueError\u001b[0m: pos_label=1 is not a valid label. It should be one of ['Charged Off', 'Fully Paid']"
     ]
    }
   ],
   "source": [
    "precision_score(tahmin2,y)"
   ]
  },
  {
   "cell_type": "markdown",
   "id": "7bb05f17",
   "metadata": {},
   "source": [
    "CONFUSION MATRIX\n",
    "\n",
    "\n",
    "                              PREDICT VALUES\n",
    "                            YES       |      NO\n",
    "...........................................................\n",
    "ACTUAL      |  YES   : TRUE POSSITIVE | FALSE NEGATIVE     \n",
    "SITUATION   |  NO    : FALSE POSITIVE | TRUE NEGATIVE\n",
    "...........................................................    \n",
    "    \n",
    "    TRUE POSSITIVE : GERÇEKTE ISTEN AYRILDI GAUS. BERNO. MODELIDE AYRILDI DIYE TAHMIN ETTI\n",
    "    FALSE NEGATIVE : GERCEKTE ISTEN AYRILDI GAUS VE BERNO. MODELİ ISTEN AYRILMADI DIYE TAHMIN ETT\n",
    "    FALSE POSITIVE : GERCEKTE ISTEN AYRILMADI GAUS. VE BERNO. MODELİ ISTEN AYRILDI DIYE TAHMIN ETTI\n",
    "    TRUE NEGATIVE  : GERCEKTE ISTEN AYRILDI GAUSE VE BERNO. MOEDELI ISTEN AYRILDI DIYE TAHMIN ETTI"
   ]
  },
  {
   "cell_type": "code",
   "execution_count": null,
   "id": "3108a9cc",
   "metadata": {},
   "outputs": [],
   "source": [
    "confusion_matrix(tahmin2,y) #True Positive, False Negative, False Positive True Negative"
   ]
  },
  {
   "cell_type": "code",
   "execution_count": 208,
   "id": "7623c3b1",
   "metadata": {},
   "outputs": [
    {
     "data": {
      "text/plain": [
       "array([[ 16899,   1530],\n",
       "       [ 40626, 127044]], dtype=int64)"
      ]
     },
     "execution_count": 208,
     "metadata": {},
     "output_type": "execute_result"
    }
   ],
   "source": [
    "confusion_matrix(tahmin1,y)"
   ]
  },
  {
   "cell_type": "code",
   "execution_count": 209,
   "id": "6a651f77",
   "metadata": {},
   "outputs": [
    {
     "name": "stdout",
     "output_type": "stream",
     "text": [
      "              precision    recall  f1-score   support\n",
      "\n",
      " Charged Off       0.29      0.92      0.44     18429\n",
      "  Fully Paid       0.99      0.76      0.86    167670\n",
      "\n",
      "    accuracy                           0.77    186099\n",
      "   macro avg       0.64      0.84      0.65    186099\n",
      "weighted avg       0.92      0.77      0.82    186099\n",
      "\n"
     ]
    }
   ],
   "source": [
    "print(classification_report(tahmin1,y))"
   ]
  },
  {
   "cell_type": "code",
   "execution_count": 210,
   "id": "f9bd380e",
   "metadata": {},
   "outputs": [
    {
     "name": "stdout",
     "output_type": "stream",
     "text": [
      "              precision    recall  f1-score   support\n",
      "\n",
      " Charged Off       0.18      0.59      0.28     18063\n",
      "  Fully Paid       0.94      0.72      0.82    168036\n",
      "\n",
      "    accuracy                           0.71    186099\n",
      "   macro avg       0.56      0.65      0.55    186099\n",
      "weighted avg       0.87      0.71      0.76    186099\n",
      "\n"
     ]
    }
   ],
   "source": [
    "print(classification_report(tahmin2,y))"
   ]
  },
  {
   "cell_type": "markdown",
   "id": "0eae58ef",
   "metadata": {},
   "source": [
    "## BAŞKA BİR SKLEARN NEIGHBOOR PAKETI CLASSIFIER ICIN  CLASSIFER MODELI \"K NEIGHBOOR \" MODELI ILE EGITME"
   ]
  },
  {
   "cell_type": "code",
   "execution_count": 189,
   "id": "10f1dce3",
   "metadata": {},
   "outputs": [],
   "source": [
    "from sklearn.neighbors import KNeighborsClassifier\n",
    "k=KNeighborsClassifier()"
   ]
  },
  {
   "cell_type": "code",
   "execution_count": 190,
   "id": "f08b3485",
   "metadata": {},
   "outputs": [
    {
     "data": {
      "text/plain": [
       "KNeighborsClassifier()"
      ]
     },
     "execution_count": 190,
     "metadata": {},
     "output_type": "execute_result"
    }
   ],
   "source": [
    "k.fit(x,y)"
   ]
  },
  {
   "cell_type": "code",
   "execution_count": 191,
   "id": "f7b0d680",
   "metadata": {},
   "outputs": [],
   "source": [
    "tahmin3=k.predict(x)"
   ]
  },
  {
   "cell_type": "code",
   "execution_count": 194,
   "id": "8e0cfe3c",
   "metadata": {},
   "outputs": [
    {
     "name": "stdout",
     "output_type": "stream",
     "text": [
      "              precision    recall  f1-score   support\n",
      "\n",
      " Charged Off       0.65      0.78      0.71     48058\n",
      "  Fully Paid       0.92      0.86      0.89    138041\n",
      "\n",
      "    accuracy                           0.84    186099\n",
      "   macro avg       0.79      0.82      0.80    186099\n",
      "weighted avg       0.85      0.84      0.84    186099\n",
      "\n"
     ]
    }
   ],
   "source": [
    "print(classification_report(tahmin3,y))"
   ]
  },
  {
   "cell_type": "code",
   "execution_count": 195,
   "id": "8a95a341",
   "metadata": {},
   "outputs": [
    {
     "data": {
      "text/plain": [
       "array([[ 37523,  10535],\n",
       "       [ 20002, 118039]], dtype=int64)"
      ]
     },
     "execution_count": 195,
     "metadata": {},
     "output_type": "execute_result"
    }
   ],
   "source": [
    "confusion_matrix(tahmin3,y)"
   ]
  },
  {
   "cell_type": "markdown",
   "id": "ead05a36",
   "metadata": {},
   "source": [
    "## BAŞKA BİR SKLEARN LINEAR MODEL PAKETINDEN LOGISTIC REGRESSION MODELI ILE CLASSIFIER TAHMINLER ICIN EGITME"
   ]
  },
  {
   "cell_type": "code",
   "execution_count": 211,
   "id": "032ce679",
   "metadata": {},
   "outputs": [],
   "source": [
    "from sklearn.linear_model import LogisticRegression\n",
    "l=LogisticRegression()"
   ]
  },
  {
   "cell_type": "code",
   "execution_count": 212,
   "id": "cd987258",
   "metadata": {},
   "outputs": [
    {
     "data": {
      "text/plain": [
       "LogisticRegression()"
      ]
     },
     "execution_count": 212,
     "metadata": {},
     "output_type": "execute_result"
    }
   ],
   "source": [
    "l.fit(x,y)"
   ]
  },
  {
   "cell_type": "code",
   "execution_count": 213,
   "id": "76ba2a99",
   "metadata": {},
   "outputs": [],
   "source": [
    "tahmin4=l.predict(x)"
   ]
  },
  {
   "cell_type": "code",
   "execution_count": 214,
   "id": "3df92d11",
   "metadata": {},
   "outputs": [
    {
     "name": "stdout",
     "output_type": "stream",
     "text": [
      "              precision    recall  f1-score   support\n",
      "\n",
      " Charged Off       0.37      0.75      0.49     28024\n",
      "  Fully Paid       0.95      0.77      0.85    158075\n",
      "\n",
      "    accuracy                           0.77    186099\n",
      "   macro avg       0.66      0.76      0.67    186099\n",
      "weighted avg       0.86      0.77      0.80    186099\n",
      "\n"
     ]
    }
   ],
   "source": [
    "print(classification_report(tahmin4,y))"
   ]
  },
  {
   "cell_type": "code",
   "execution_count": 215,
   "id": "07231150",
   "metadata": {},
   "outputs": [
    {
     "data": {
      "text/plain": [
       "array([[ 21133,   6891],\n",
       "       [ 36392, 121683]], dtype=int64)"
      ]
     },
     "execution_count": 215,
     "metadata": {},
     "output_type": "execute_result"
    }
   ],
   "source": [
    "confusion_matrix(tahmin4,y)"
   ]
  },
  {
   "cell_type": "markdown",
   "id": "be1419f0",
   "metadata": {},
   "source": [
    "## SKLEARN UN TREE PAKETINDE DECISION TREE MODELI CLASSIFIER EGITIMI VE TAHMINI YAPIYOR."
   ]
  },
  {
   "cell_type": "code",
   "execution_count": 61,
   "id": "e9580314",
   "metadata": {},
   "outputs": [],
   "source": [
    "from sklearn.tree import DecisionTreeClassifier\n",
    "d=DecisionTreeClassifier()"
   ]
  },
  {
   "cell_type": "code",
   "execution_count": 62,
   "id": "2a65260c",
   "metadata": {},
   "outputs": [
    {
     "data": {
      "text/plain": [
       "DecisionTreeClassifier()"
      ]
     },
     "execution_count": 62,
     "metadata": {},
     "output_type": "execute_result"
    }
   ],
   "source": [
    "d.fit(x,y)"
   ]
  },
  {
   "cell_type": "code",
   "execution_count": 63,
   "id": "a3b98991",
   "metadata": {},
   "outputs": [],
   "source": [
    "tahmin5=d.predict(x)"
   ]
  },
  {
   "cell_type": "code",
   "execution_count": 64,
   "id": "97ec21a8",
   "metadata": {},
   "outputs": [
    {
     "data": {
      "text/plain": [
       "array([[ 57525,      0],\n",
       "       [     0, 128574]], dtype=int64)"
      ]
     },
     "execution_count": 64,
     "metadata": {},
     "output_type": "execute_result"
    }
   ],
   "source": [
    "confusion_matrix(tahmin5,y)"
   ]
  },
  {
   "cell_type": "code",
   "execution_count": 65,
   "id": "d34a4641",
   "metadata": {},
   "outputs": [
    {
     "name": "stdout",
     "output_type": "stream",
     "text": [
      "              precision    recall  f1-score   support\n",
      "\n",
      " Charged Off       1.00      1.00      1.00     57525\n",
      "  Fully Paid       1.00      1.00      1.00    128574\n",
      "\n",
      "    accuracy                           1.00    186099\n",
      "   macro avg       1.00      1.00      1.00    186099\n",
      "weighted avg       1.00      1.00      1.00    186099\n",
      "\n"
     ]
    }
   ],
   "source": [
    "print(classification_report(tahmin5,y))"
   ]
  },
  {
   "cell_type": "markdown",
   "id": "7d41d872",
   "metadata": {},
   "source": [
    "## SKLEARN UN ENSEMBLE PAKETINDE RANDOMFORESTCLASSIFIER MODELI CLASSIFIER EGITIMI VE TAHMINI YAPIYOR."
   ]
  },
  {
   "cell_type": "code",
   "execution_count": 66,
   "id": "a033243b",
   "metadata": {},
   "outputs": [],
   "source": [
    "from sklearn.ensemble import RandomForestClassifier\n",
    "r=RandomForestClassifier()"
   ]
  },
  {
   "cell_type": "code",
   "execution_count": 67,
   "id": "36dc206b",
   "metadata": {},
   "outputs": [
    {
     "data": {
      "text/plain": [
       "RandomForestClassifier()"
      ]
     },
     "execution_count": 67,
     "metadata": {},
     "output_type": "execute_result"
    }
   ],
   "source": [
    "r.fit(x,y)"
   ]
  },
  {
   "cell_type": "code",
   "execution_count": 68,
   "id": "57384429",
   "metadata": {},
   "outputs": [],
   "source": [
    "tahmin6=r.predict(x)"
   ]
  },
  {
   "cell_type": "code",
   "execution_count": 69,
   "id": "de35a9eb",
   "metadata": {},
   "outputs": [
    {
     "data": {
      "text/plain": [
       "array([[ 57525,      0],\n",
       "       [     0, 128574]], dtype=int64)"
      ]
     },
     "execution_count": 69,
     "metadata": {},
     "output_type": "execute_result"
    }
   ],
   "source": [
    "confusion_matrix(tahmin6,y)"
   ]
  },
  {
   "cell_type": "code",
   "execution_count": 70,
   "id": "71f6c809",
   "metadata": {},
   "outputs": [
    {
     "name": "stdout",
     "output_type": "stream",
     "text": [
      "              precision    recall  f1-score   support\n",
      "\n",
      " Charged Off       1.00      1.00      1.00     57525\n",
      "  Fully Paid       1.00      1.00      1.00    128574\n",
      "\n",
      "    accuracy                           1.00    186099\n",
      "   macro avg       1.00      1.00      1.00    186099\n",
      "weighted avg       1.00      1.00      1.00    186099\n",
      "\n"
     ]
    }
   ],
   "source": [
    "print(classification_report(tahmin6,y))"
   ]
  },
  {
   "cell_type": "markdown",
   "id": "5539b564",
   "metadata": {},
   "source": []
  },
  {
   "cell_type": "markdown",
   "id": "2157c7fb",
   "metadata": {},
   "source": [
    "## SKLEARN UN ENSEMBLE PAKETININ GRADIENT BOOST CLASSIFIER  MODEL EGITME VE TAHMIN YAPIYOR"
   ]
  },
  {
   "cell_type": "code",
   "execution_count": 71,
   "id": "6c38b6f2",
   "metadata": {},
   "outputs": [],
   "source": [
    "from sklearn.ensemble import GradientBoostingClassifier\n",
    "h=GradientBoostingClassifier()"
   ]
  },
  {
   "cell_type": "code",
   "execution_count": 72,
   "id": "bd380299",
   "metadata": {},
   "outputs": [
    {
     "data": {
      "text/plain": [
       "GradientBoostingClassifier()"
      ]
     },
     "execution_count": 72,
     "metadata": {},
     "output_type": "execute_result"
    }
   ],
   "source": [
    "h.fit(x,y)"
   ]
  },
  {
   "cell_type": "code",
   "execution_count": 73,
   "id": "8d1b9ccc",
   "metadata": {},
   "outputs": [],
   "source": [
    "tahmin7=h.predict(x)"
   ]
  },
  {
   "cell_type": "code",
   "execution_count": 74,
   "id": "0e149bda",
   "metadata": {},
   "outputs": [
    {
     "data": {
      "text/plain": [
       "array([[ 25410,   6865],\n",
       "       [ 32115, 121709]], dtype=int64)"
      ]
     },
     "execution_count": 74,
     "metadata": {},
     "output_type": "execute_result"
    }
   ],
   "source": [
    "confusion_matrix(tahmin7,y)"
   ]
  },
  {
   "cell_type": "code",
   "execution_count": 75,
   "id": "ef7cfd2f",
   "metadata": {},
   "outputs": [
    {
     "name": "stdout",
     "output_type": "stream",
     "text": [
      "              precision    recall  f1-score   support\n",
      "\n",
      " Charged Off       0.44      0.79      0.57     32275\n",
      "  Fully Paid       0.95      0.79      0.86    153824\n",
      "\n",
      "    accuracy                           0.79    186099\n",
      "   macro avg       0.69      0.79      0.71    186099\n",
      "weighted avg       0.86      0.79      0.81    186099\n",
      "\n"
     ]
    }
   ],
   "source": [
    "print(classification_report(tahmin7,y))\n",
    "\n",
    "cm=confusion_matrix(tahmin7,y)"
   ]
  },
  {
   "cell_type": "code",
   "execution_count": 76,
   "id": "ad977182",
   "metadata": {},
   "outputs": [
    {
     "data": {
      "image/png": "[encoded data removed]",
      "text/plain": [
       "<Figure size 432x288 with 2 Axes>"
      ]
     },
     "metadata": {
      "needs_background": "light"
     },
     "output_type": "display_data"
    },
    {
     "data": {
      "text/plain": [
       "'\\ndisp = sklearn.metrics.ConfusionMatrixDisplay.from_predictions(tahmin7,y)\\ndisp.figure_.suptitle(\"Confusion Matrix\")\\nprint(f\"Confusion matrix:\\n{disp.confusion_matrix}\")\\n\\nplt.show()\\n\\n'"
      ]
     },
     "execution_count": 76,
     "metadata": {},
     "output_type": "execute_result"
    }
   ],
   "source": [
    "disp = ConfusionMatrixDisplay(confusion_matrix=cm,display_labels=h.classes_)\n",
    "disp.plot()\n",
    "plt.show()\n",
    "'''\n",
    "disp = sklearn.metrics.ConfusionMatrixDisplay.from_predictions(tahmin7,y)\n",
    "disp.figure_.suptitle(\"Confusion Matrix\")\n",
    "print(f\"Confusion matrix:\\n{disp.confusion_matrix}\")\n",
    "\n",
    "plt.show()\n",
    "\n",
    "'''"
   ]
  },
  {
   "cell_type": "code",
   "execution_count": 80,
   "id": "f65cc934",
   "metadata": {},
   "outputs": [],
   "source": [
    "from sklearn.model_selection import train_test_split"
   ]
  },
  {
   "cell_type": "code",
   "execution_count": 81,
   "id": "7b11059e",
   "metadata": {},
   "outputs": [
    {
     "data": {
      "text/plain": [
       "\"\\ndef algo_test(x,y):\\n    \\n    g=GaussianNB()\\n    b=BernoulliNB()\\n    k=KNeighborsClassifier()\\n    l=LogisticRegression()\\n    d=DecisionTreeClassifier()\\n    r=RandomForestClassifier()\\n    \\n    \\n          \\n    \\n    \\n    algos = [g,b,k,l,d,r]\\n    algo_names = ['GaussianNB','BernoulliNB','KNeighborsClassifier','LogisticRegression','DecisionTreeClassifier','RandomForestClassifier']\\n    CConfusion_matrix = []\\n    CClassification_report = []\\n    \\n        \\n    result = pd.DataFrame(columns = ['confusion_matrix ','classification_report'],index = algo_names)\\n       \\n    for algo in algos:\\n        \\n        algo.fit(x,y)\\n             \\n        CConfusion_matrix.append(confusion_matrix(y,algo.predict(x)))\\n        CClassification_report.append(classification_report(y, algo.predict(x)))\\n        \\n\\n    result.CConfusion_matrix= CConfusion_matrix\\n    result.CClassification_report = CClassification_report\\n   \\n    \\n    return print( result)\\n    \\n    \\n\""
      ]
     },
     "execution_count": 81,
     "metadata": {},
     "output_type": "execute_result"
    }
   ],
   "source": [
    "## ÇALIŞMADI BUNA TEKRAR BAKILACAK.\n",
    "'''\n",
    "def algo_test(x,y):\n",
    "    \n",
    "    g=GaussianNB()\n",
    "    b=BernoulliNB()\n",
    "    k=KNeighborsClassifier()\n",
    "    l=LogisticRegression()\n",
    "    d=DecisionTreeClassifier()\n",
    "    r=RandomForestClassifier()\n",
    "    \n",
    "    \n",
    "          \n",
    "    \n",
    "    \n",
    "    algos = [g,b,k,l,d,r]\n",
    "    algo_names = ['GaussianNB','BernoulliNB','KNeighborsClassifier','LogisticRegression','DecisionTreeClassifier','RandomForestClassifier']\n",
    "    CConfusion_matrix = []\n",
    "    CClassification_report = []\n",
    "    \n",
    "        \n",
    "    result = pd.DataFrame(columns = ['confusion_matrix ','classification_report'],index = algo_names)\n",
    "       \n",
    "    for algo in algos:\n",
    "        \n",
    "        algo.fit(x,y)\n",
    "             \n",
    "        CConfusion_matrix.append(confusion_matrix(y,algo.predict(x)))\n",
    "        CClassification_report.append(classification_report(y, algo.predict(x)))\n",
    "        \n",
    "\n",
    "    result.CConfusion_matrix= CConfusion_matrix\n",
    "    result.CClassification_report = CClassification_report\n",
    "   \n",
    "    \n",
    "    return print( result)\n",
    "    \n",
    "    \n",
    "'''    "
   ]
  },
  {
   "cell_type": "code",
   "execution_count": 82,
   "id": "7448a77a",
   "metadata": {},
   "outputs": [],
   "source": [
    "# ÇALIŞMADI\n",
    "\n",
    "#algo_test(x,y)"
   ]
  },
  {
   "cell_type": "markdown",
   "id": "264bd061",
   "metadata": {},
   "source": [
    "# BU YENİ METHOD SKLEARN UN SVM PAKETİ, CLASSSIFICATION ICIN TAHMİNLEME YAPIYOR. \n",
    "\n",
    "# NOT: SVN METHODU ÇOK UZUN SÜRÜYOR VERİYİ İŞLEMESİ YAKLAŞIK 5 SAAT SÜRDÜ FAKAT SONUÇ EN FAZLA %77 E ÇIKTI. CHARGE OFF DA ÇOK BAŞARILI"
   ]
  },
  {
   "cell_type": "code",
   "execution_count": 83,
   "id": "bbf7b40b",
   "metadata": {},
   "outputs": [],
   "source": [
    "from sklearn.svm import SVC"
   ]
  },
  {
   "cell_type": "code",
   "execution_count": 84,
   "id": "13c05054",
   "metadata": {},
   "outputs": [
    {
     "data": {
      "text/plain": [
       "SVC()"
      ]
     },
     "execution_count": 84,
     "metadata": {},
     "output_type": "execute_result"
    }
   ],
   "source": [
    "svc=SVC()\n",
    "\n",
    "svc.fit(x,y)\n"
   ]
  },
  {
   "cell_type": "code",
   "execution_count": 85,
   "id": "bb500073",
   "metadata": {},
   "outputs": [],
   "source": [
    "tahmin8=svc.predict(x)"
   ]
  },
  {
   "cell_type": "code",
   "execution_count": 86,
   "id": "7485270b",
   "metadata": {},
   "outputs": [],
   "source": [
    "cm=confusion_matrix(tahmin8,y)\n"
   ]
  },
  {
   "cell_type": "code",
   "execution_count": 88,
   "id": "57d33507",
   "metadata": {},
   "outputs": [
    {
     "name": "stdout",
     "output_type": "stream",
     "text": [
      "              precision    recall  f1-score   support\n",
      "\n",
      " Charged Off       0.26      1.00      0.42     15197\n",
      "  Fully Paid       1.00      0.75      0.86    170902\n",
      "\n",
      "    accuracy                           0.77    186099\n",
      "   macro avg       0.63      0.88      0.64    186099\n",
      "weighted avg       0.94      0.77      0.82    186099\n",
      "\n"
     ]
    }
   ],
   "source": [
    "print(classification_report(tahmin8,y))\n"
   ]
  },
  {
   "cell_type": "code",
   "execution_count": 90,
   "id": "26cfdd43",
   "metadata": {},
   "outputs": [
    {
     "data": {
      "image/png": "[encoded data removed]",
      "text/plain": [
       "<Figure size 432x288 with 2 Axes>"
      ]
     },
     "metadata": {
      "needs_background": "light"
     },
     "output_type": "display_data"
    }
   ],
   "source": [
    "disp = ConfusionMatrixDisplay(confusion_matrix=cm,display_labels=h.classes_)\n",
    "disp.plot()\n",
    "plt.show()"
   ]
  },
  {
   "cell_type": "code",
   "execution_count": 104,
   "id": "2e4a5401",
   "metadata": {},
   "outputs": [
    {
     "data": {
      "text/plain": [
       "(array(['Fully Paid', 'Fully Paid', 'Fully Paid', ..., 'Charged Off',\n",
       "        'Fully Paid', 'Fully Paid'], dtype=object),\n",
       " array(['Fully Paid', 'Fully Paid', 'Fully Paid', ..., 'Charged Off',\n",
       "        'Fully Paid', 'Fully Paid'], dtype=object),\n",
       " array(['Fully Paid', 'Fully Paid', 'Fully Paid', ..., 'Charged Off',\n",
       "        'Charged Off', 'Fully Paid'], dtype=object))"
      ]
     },
     "execution_count": 104,
     "metadata": {},
     "output_type": "execute_result"
    }
   ],
   "source": [
    "tahmin8,tahmin7,tahmin6"
   ]
  },
  {
   "cell_type": "code",
   "execution_count": null,
   "id": "4941b90f",
   "metadata": {},
   "outputs": [],
   "source": []
  },
  {
   "cell_type": "code",
   "execution_count": null,
   "id": "e351dffe",
   "metadata": {},
   "outputs": [],
   "source": []
  }
 ],
 "metadata": {
  "kernelspec": {
   "display_name": "Python 3 (ipykernel)",
   "language": "python",
   "name": "python3"
  },
  "language_info": {
   "codemirror_mode": {
    "name": "ipython",
    "version": 3
   },
   "file_extension": ".py",
   "mimetype": "text/x-python",
   "name": "python",
   "nbconvert_exporter": "python",
   "pygments_lexer": "ipython3",
   "version": "3.9.13"
  }
 },
 "nbformat": 4,
 "nbformat_minor": 5
}
